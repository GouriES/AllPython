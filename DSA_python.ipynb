{
  "nbformat": 4,
  "nbformat_minor": 0,
  "metadata": {
    "colab": {
      "name": "DSA_python.ipynb",
      "provenance": [],
      "collapsed_sections": [],
      "toc_visible": true
    },
    "kernelspec": {
      "name": "python3",
      "display_name": "Python 3"
    },
    "language_info": {
      "name": "python"
    }
  },
  "cells": [
    {
      "cell_type": "markdown",
      "source": [
        "#Datastructure types"
      ],
      "metadata": {
        "id": "Umpp5Y_nF2OD"
      }
    },
    {
      "cell_type": "markdown",
      "source": [
        "# Built-in Data structure"
      ],
      "metadata": {
        "id": "gJRKHNHdF2K1"
      }
    },
    {
      "cell_type": "markdown",
      "source": [
        "\n",
        "1. Built-in Data structure\n",
        "\n",
        "* List\n",
        "* Dictionary\n",
        "* Tuple\n",
        "* Set\n",
        "\n",
        "2. User-defined Data structure\n",
        "* Stack\n",
        "* Queue\n",
        "* Tree\n",
        "* Graph\n"
      ],
      "metadata": {
        "id": "XH6HKVWK1pPK"
      }
    },
    {
      "cell_type": "markdown",
      "source": [
        "## Lists\n",
        "Python Lists are ordered collections of data just like arrays in other programming languages. It allows different types of elements in the list. The costly operation is inserting or deleting the element from the beginning of the List as all the elements are needed to be shifted. Insertion and deletion at the end of the list can also become costly in the case where the preallocated memory becomes full."
      ],
      "metadata": {
        "id": "__TQFi2kFMtZ"
      }
    },
    {
      "cell_type": "code",
      "source": [
        "# Creating a List with\n",
        "# the use of multiple values\n",
        "List = [\"Hills\", \"Rock\", \"Trees\",5]\n",
        "print(\"\\nList containing multiple values: \")\n",
        "print(List)\n",
        "\n",
        "# Creating a Multi-Dimensional List\n",
        "# (By Nesting a list inside a List)\n",
        "List2 = [['OFF', 'ON'], ['Constant']]\n",
        "print(\"\\nMulti-Dimensional List: \")\n",
        "print(List2)\n",
        "\n",
        "# accessing a element from the\n",
        "# list using index number\n",
        "print(\"Accessing element from the list\")\n",
        "print(List[0])\n",
        "print(List[2])\n",
        "\n",
        "# accessing a element using\n",
        "# negative indexing\n",
        "print(\"Accessing element using negative indexing\")\n",
        "\t\n",
        "# print the last element of list\n",
        "print(List[-1])\n",
        "\t\n",
        "# print the third last element of list\n",
        "print(List[-3])\n"
      ],
      "metadata": {
        "colab": {
          "base_uri": "https://localhost:8080/"
        },
        "id": "jOrVQHomFZh4",
        "outputId": "9acbe8f2-26b9-4ec0-d5a2-20aec04de4c9"
      },
      "execution_count": null,
      "outputs": [
        {
          "output_type": "stream",
          "name": "stdout",
          "text": [
            "\n",
            "List containing multiple values: \n",
            "['Hills', 'Rock', 'Trees', 5]\n",
            "\n",
            "Multi-Dimensional List: \n",
            "[['OFF', 'ON'], ['Constant']]\n",
            "Accessing element from the list\n",
            "Hills\n",
            "Trees\n",
            "Accessing element using negative indexing\n",
            "5\n",
            "Rock\n"
          ]
        }
      ]
    },
    {
      "cell_type": "markdown",
      "source": [
        "## Tuple\n",
        "Python tuples are similar to lists but Tuples are immutable in nature i.e. once created it cannot be modified. Just like a List, a Tuple can also contain elements of various types.\n",
        "\n",
        "In Python, tuples are created by placing a sequence of values separated by ‘comma’ with or without the use of parentheses for grouping of the data sequence. \n",
        "\n",
        "Note: To create a tuple of one element there must be a trailing comma. For example, (8,) will create a tuple containing 8 as the element."
      ],
      "metadata": {
        "id": "rzz5nvSiFfwz"
      }
    },
    {
      "cell_type": "code",
      "source": [
        "# Creating a Tuple with\n",
        "# the use of Strings\n",
        "Tuple = ('Close', 'Open')\n",
        "print(\"\\nTuple with the use of String: \")\n",
        "print(Tuple)\n",
        "\t\n",
        "# Creating a Tuple with\n",
        "# the use of list\n",
        "list1 = [1, 2, 4, 5, 6]\n",
        "print(\"\\nTuple using List: \")\n",
        "Tuple = tuple(list1)\n",
        "\n",
        "# Accessing element using indexing\n",
        "print(\"First element of tuple\")\n",
        "print(Tuple[0])\n",
        "\n",
        "# Accessing element from last\n",
        "# negative indexing\n",
        "print(\"\\nLast element of tuple\")\n",
        "print(Tuple[-1])\n",
        "\n",
        "print(\"\\nThird last element of tuple\")\n",
        "print(Tuple[-3])\n"
      ],
      "metadata": {
        "colab": {
          "base_uri": "https://localhost:8080/"
        },
        "id": "xuY9ZiM_FjKJ",
        "outputId": "003718de-0558-4ba9-c11a-6cb3acc95ab0"
      },
      "execution_count": null,
      "outputs": [
        {
          "output_type": "stream",
          "name": "stdout",
          "text": [
            "\n",
            "Tuple with the use of String: \n",
            "('Close', 'Open')\n",
            "\n",
            "Tuple using List: \n",
            "First element of tuple\n",
            "1\n",
            "\n",
            "Last element of tuple\n",
            "6\n",
            "\n",
            "Third last element of tuple\n",
            "4\n"
          ]
        }
      ]
    },
    {
      "cell_type": "markdown",
      "source": [
        "##Set\n",
        "Python set is a mutable collection of data that does not allow any duplication. Sets are basically used to include membership testing and eliminating duplicate entries. The data structure used in this is Hashing, a popular technique to perform insertion, deletion, and traversal in O(1) on average. \n",
        "\n",
        "If Multiple values are present at the same index position, then the value is appended to that index position, to form a Linked List."
      ],
      "metadata": {
        "id": "i-UCcE8cFovL"
      }
    },
    {
      "cell_type": "code",
      "source": [
        "# Creating a Set with\n",
        "# a mixed type of values\n",
        "# (Having numbers and strings)\n",
        "Set = set([1, 2, 'RAM', 4, 'ROM', 6, 'TB'])\n",
        "print(\"\\nSet with the use of Mixed Values\")\n",
        "print(Set)\n",
        "\n",
        "# Accessing element using\n",
        "# for loop\n",
        "print(\"\\nElements of set: \")\n",
        "for i in Set:\n",
        "\tprint(i, end =\" \")\n",
        "print()\n",
        "\n",
        "# Checking the element\n",
        "# using in keyword\n",
        "print(\"TB\" in Set)\n"
      ],
      "metadata": {
        "colab": {
          "base_uri": "https://localhost:8080/"
        },
        "id": "_TPpIW-nFrqV",
        "outputId": "a8f01d1a-dfe5-4a68-8bff-55a746a77270"
      },
      "execution_count": null,
      "outputs": [
        {
          "output_type": "stream",
          "name": "stdout",
          "text": [
            "\n",
            "Set with the use of Mixed Values\n",
            "{1, 2, 4, 6, 'TB', 'RAM', 'ROM'}\n",
            "\n",
            "Elements of set: \n",
            "1 2 4 6 TB RAM ROM \n",
            "True\n"
          ]
        }
      ]
    },
    {
      "cell_type": "markdown",
      "source": [
        "### Frozen Sets\n",
        "Frozen sets in Python are immutable objects that only support methods and operators that produce a result without affecting the frozen set or sets to which they are applied. While elements of a set can be modified at any time, elements of the frozen set remain the same after creation."
      ],
      "metadata": {
        "id": "DKOSCjPQGFZF"
      }
    },
    {
      "cell_type": "code",
      "source": [
        "# Same as {\"a\", \"b\",\"c\"}\n",
        "normal_set = set([\"a\", \"b\",\"c\"])\n",
        "\n",
        "print(\"Normal Set\")\n",
        "print(normal_set)\n",
        "\n",
        "# A frozen set\n",
        "frozen_set = frozenset([\"e\", \"f\", \"g\"])\n",
        "\n",
        "print(\"\\nFrozen Set\")\n",
        "print(frozen_set)\n",
        "\n",
        "# Uncommenting below line would cause error as\n",
        "# we are trying to add element to a frozen set\n",
        "# frozen_set.add(\"h\")\n"
      ],
      "metadata": {
        "colab": {
          "base_uri": "https://localhost:8080/"
        },
        "id": "vsORVS-GGK5G",
        "outputId": "29b0a250-96fe-4f2f-bbfd-0405f5814c64"
      },
      "execution_count": null,
      "outputs": [
        {
          "output_type": "stream",
          "name": "stdout",
          "text": [
            "Normal Set\n",
            "{'a', 'b', 'c'}\n",
            "\n",
            "Frozen Set\n",
            "frozenset({'g', 'e', 'f'})\n"
          ]
        }
      ]
    },
    {
      "cell_type": "markdown",
      "source": [
        "## String\n",
        "Python Strings is the immutable array of bytes representing Unicode characters. Python does not have a character data type, a single character is simply a string with a length of 1.\n",
        "\n",
        "Note: As strings are immutable, modifying a string will result in creating a new copy."
      ],
      "metadata": {
        "id": "gMS9QhfMGQRC"
      }
    },
    {
      "cell_type": "code",
      "source": [
        "String = \"Welcome to Google Map\"\n",
        "print(\"Creating String: \")\n",
        "print(String)\n",
        "\t\n",
        "# Printing First character\n",
        "print(\"\\nFirst character of String is: \")\n",
        "print(String[0])\n",
        "\t\n",
        "# Printing Last character\n",
        "print(\"\\nLast character of String is: \")\n",
        "print(String[-1])\n"
      ],
      "metadata": {
        "colab": {
          "base_uri": "https://localhost:8080/"
        },
        "id": "kYFiIK3IGSTZ",
        "outputId": "b863d4a6-153d-452c-f4fb-e6fa8daf4411"
      },
      "execution_count": null,
      "outputs": [
        {
          "output_type": "stream",
          "name": "stdout",
          "text": [
            "Creating String: \n",
            "Welcome to Google Map\n",
            "\n",
            "First character of String is: \n",
            "W\n",
            "\n",
            "Last character of String is: \n",
            "p\n"
          ]
        }
      ]
    },
    {
      "cell_type": "markdown",
      "source": [
        "## Dictionary\n",
        "Python dictionary is an unordered collection of data that stores data in the format of key:value pair. It is like hash tables in any other language with the time complexity of O(1). Indexing of Python Dictionary is done with the help of keys. These are of any hashable type i.e. an object whose can never change like strings, numbers, tuples, etc. We can create a dictionary by using curly braces ({}) or dictionary comprehension."
      ],
      "metadata": {
        "id": "lcCOCMovGVxO"
      }
    },
    {
      "cell_type": "code",
      "source": [
        "# Creating a Dictionary\n",
        "Dict = {'Name': 'Jhon', 1: [1, 2, 3, 4]}\n",
        "print(\"Creating Dictionary: \")\n",
        "print(Dict)\n",
        "\n",
        "# accessing a element using key\n",
        "print(\"Accessing a element using key:\")\n",
        "print(Dict['Name'])\n",
        "\n",
        "# accessing a element using get()\n",
        "# method\n",
        "print(\"Accessing a element using get:\")\n",
        "print(Dict.get(1))\n",
        "\n",
        "# creation using Dictionary comprehension\n",
        "myDict = {x: x**2 for x in [1,2,3,4,5]}\n",
        "print(myDict)\n"
      ],
      "metadata": {
        "colab": {
          "base_uri": "https://localhost:8080/"
        },
        "id": "pk0BvNN6GbUY",
        "outputId": "de9cecaf-2566-4757-8664-2129e035fc1c"
      },
      "execution_count": null,
      "outputs": [
        {
          "output_type": "stream",
          "name": "stdout",
          "text": [
            "Creating Dictionary: \n",
            "{'Name': 'Jhon', 1: [1, 2, 3, 4]}\n",
            "Accessing a element using key:\n",
            "Jhon\n",
            "Accessing a element using get:\n",
            "[1, 2, 3, 4]\n",
            "{1: 1, 2: 4, 3: 9, 4: 16, 5: 25}\n"
          ]
        }
      ]
    },
    {
      "cell_type": "markdown",
      "source": [
        "## Matrix\n",
        "A matrix is a 2D array where each element is of strictly the same size. To create a matrix we will be using the"
      ],
      "metadata": {
        "id": "wdhp2RaOGgU6"
      }
    },
    {
      "cell_type": "code",
      "source": [
        "import numpy as np\n",
        "\n",
        "a = np.array([[1,2,3,4],[4,55,1,2],\n",
        "\t\t\t[8,3,20,19],[11,2,22,21]])\n",
        "m = np.reshape(a,(4, 4))\n",
        "print(m)\n",
        "\n",
        "# Accessing element\n",
        "print(\"\\nAccessing Elements\")\n",
        "print(a[1])\n",
        "print(a[2][0])\n",
        "\n",
        "# Adding Element\n",
        "m = np.append(m,[[1, 15,13,11]],0)\n",
        "print(\"\\nAdding Element\")\n",
        "print(m)\n",
        "\n",
        "# Deleting Element\n",
        "m = np.delete(m,[1],0)\n",
        "print(\"\\nDeleting Element\")\n",
        "print(m)\n"
      ],
      "metadata": {
        "colab": {
          "base_uri": "https://localhost:8080/"
        },
        "id": "CUG3RLxfGry2",
        "outputId": "d03ce77c-03fd-4b9e-e519-75256e363f00"
      },
      "execution_count": null,
      "outputs": [
        {
          "output_type": "stream",
          "name": "stdout",
          "text": [
            "[[ 1  2  3  4]\n",
            " [ 4 55  1  2]\n",
            " [ 8  3 20 19]\n",
            " [11  2 22 21]]\n",
            "\n",
            "Accessing Elements\n",
            "[ 4 55  1  2]\n",
            "8\n",
            "\n",
            "Adding Element\n",
            "[[ 1  2  3  4]\n",
            " [ 4 55  1  2]\n",
            " [ 8  3 20 19]\n",
            " [11  2 22 21]\n",
            " [ 1 15 13 11]]\n",
            "\n",
            "Deleting Element\n",
            "[[ 1  2  3  4]\n",
            " [ 8  3 20 19]\n",
            " [11  2 22 21]\n",
            " [ 1 15 13 11]]\n"
          ]
        }
      ]
    },
    {
      "cell_type": "markdown",
      "source": [
        "## Bytearray\n",
        "Python Bytearray gives a mutable sequence of integers in the range 0 <= x < 256."
      ],
      "metadata": {
        "id": "VOrme3GNGvy1"
      }
    },
    {
      "cell_type": "code",
      "source": [
        "# Creating bytearray\n",
        "a = bytearray((12, 8, 25, 2))\n",
        "print(\"Creating Bytearray:\")\n",
        "print(a)\n",
        "\n",
        "# accessing elements\n",
        "print(\"\\nAccessing Elements:\", a[1])\n",
        "\n",
        "# modifying elements\n",
        "a[1] = 3\n",
        "print(\"\\nAfter Modifying:\")\n",
        "print(a)\n",
        "\n",
        "# Appending elements\n",
        "a.append(30)\n",
        "print(\"\\nAfter Adding Elements:\")\n",
        "print(a)\n"
      ],
      "metadata": {
        "colab": {
          "base_uri": "https://localhost:8080/"
        },
        "id": "O_Pu8V6TGjJq",
        "outputId": "aa025da9-ec9f-4705-f226-5135737a024b"
      },
      "execution_count": null,
      "outputs": [
        {
          "output_type": "stream",
          "name": "stdout",
          "text": [
            "Creating Bytearray:\n",
            "bytearray(b'\\x0c\\x08\\x19\\x02')\n",
            "\n",
            "Accessing Elements: 8\n",
            "\n",
            "After Modifying:\n",
            "bytearray(b'\\x0c\\x03\\x19\\x02')\n",
            "\n",
            "After Adding Elements:\n",
            "bytearray(b'\\x0c\\x03\\x19\\x02\\x1e')\n"
          ]
        }
      ]
    },
    {
      "cell_type": "markdown",
      "source": [
        "## Array\n",
        "An array is a collection of items stored at contiguous memory locations. The idea is to store multiple items of the same type together. This makes it easier to calculate the position of each element by simply adding an offset to a base value, i.e., the memory location of the first element of the array (generally denoted by the name of the array).\n",
        "For simplicity, we can think of an array a fleet of stairs where on each step is placed a value (let’s say one of your friends). Here, you can identify the location of any of your friends by simply knowing the count of the step they are on. Array can be handled in Python by a module named array. They can be useful when we have to manipulate only a specific data type values. A user can treat lists as arrays. However, user cannot constraint the type of elements stored in a list. If you create arrays using the array module, all elements of the array must be of the same type. "
      ],
      "metadata": {
        "id": "fu38PndIG9V3"
      }
    },
    {
      "cell_type": "code",
      "source": [
        "# Python program to demonstrate\n",
        "# Creation of Array\n",
        "\n",
        "# importing \"array\" for array creations\n",
        "import array as arr\n",
        "\n",
        "# creating an array with integer type\n",
        "a = arr.array('i', [1, 2, 3])\n",
        "\n",
        "# printing original array\n",
        "print (\"The new created array is : \", end =\" \")\n",
        "for i in range (0, 3):\n",
        "\tprint (a[i], end =\" \")\n",
        "print()\n",
        "\n",
        "# creating an array with float type\n",
        "b = arr.array('d', [2.5, 3.2, 3.3])\n",
        "\n",
        "# printing original array\n",
        "print (\"The new created array is : \", end =\" \")\n",
        "for i in range (0, 3):\n",
        "\tprint (b[i], end =\" \")\n",
        "\t\n"
      ],
      "metadata": {
        "colab": {
          "base_uri": "https://localhost:8080/"
        },
        "id": "z0Rz4uDjHAjY",
        "outputId": "a4e5a365-b7d2-4b6a-fd48-65f2be0f8462"
      },
      "execution_count": null,
      "outputs": [
        {
          "output_type": "stream",
          "name": "stdout",
          "text": [
            "The new created array is :  1 2 3 \n",
            "The new created array is :  2.5 3.2 3.3 "
          ]
        }
      ]
    },
    {
      "cell_type": "markdown",
      "source": [
        "# User-defined Data structure"
      ],
      "metadata": {
        "id": "SpAuoKq3F_9G"
      }
    },
    {
      "cell_type": "markdown",
      "source": [
        "## Hash Table\n",
        "\n",
        "Hash tables are a type of data structure in which the address or the index value of the data element is generated from a hash function. That makes accessing the data faster as the index value behaves as a key for the data value. In other words Hash table stores key-value pairs but the key is generated through a hashing function.\n",
        "\n",
        "So the search and insertion function of a data element becomes much faster as the key values themselves become the index of the array which stores the data.\n",
        "\n",
        "In Python, the Dictionary data types represent the implementation of hash tables. The Keys in the dictionary satisfy the following requirements.\n",
        "\n",
        "The keys of the dictionary are hashable i.e. the are generated by hashing function which generates unique result for each unique value supplied to the hash function.\n",
        "\n",
        "The order of data elements in a dictionary is not fixed."
      ],
      "metadata": {
        "id": "ujvk1VEjGh2B"
      }
    },
    {
      "cell_type": "code",
      "source": [
        "# Declare a dictionary \n",
        "dict = {'Name': 'Zara', 'Age': 7, 'Class': 'First'}\n",
        "\n",
        "# Accessing the dictionary with its key\n",
        "print (dict['Name'] , dict['Name'])\n",
        "\n",
        "dict['School'] = \"DPS School\"; # Add new entry\n",
        "print (dict['Age'], dict['Age'])\n",
        "print (dict['School'], dict['School'])\n",
        "\n",
        "del dict['Name']; # remove entry with key 'Name'\n",
        "dict.clear();     # remove all entries in dict\n",
        "del dict ; "
      ],
      "metadata": {
        "id": "AQrM-UONGhgB",
        "colab": {
          "base_uri": "https://localhost:8080/"
        },
        "outputId": "ba0e10b3-10be-4779-c61d-26037cd7db7f"
      },
      "execution_count": 4,
      "outputs": [
        {
          "output_type": "stream",
          "name": "stdout",
          "text": [
            "Zara Zara\n",
            "7 7\n",
            "DPS School DPS School\n"
          ]
        }
      ]
    },
    {
      "cell_type": "markdown",
      "source": [
        "##**Stack**\n",
        "* Works on the basis of Last-In-First-Out (LIFO) principle.\n",
        "* Elements can be pushed, accessed & popped as required.\n",
        "*  Elements are accessed only from the top position.\n",
        "\n",
        "Functions associate with stack with time complexity for each function is **O**(1)\n",
        "- push( ) - insert element\n",
        "- pop( ) - remove element\n",
        "- size( ) - length of stack\n",
        "- top( ) - reference to last element\n",
        "- empty( ) - returns true for empty sack\n"
      ],
      "metadata": {
        "id": "LRBgFJQF1pFC"
      }
    },
    {
      "cell_type": "code",
      "source": [
        "# stack implementation using list having time complexity is O(n)\n",
        "stack=[]\n",
        "stack.append(\"This is\")\n",
        "stack.append(\"Python\")\n",
        "stack.append(\"Data\")\n",
        "stack.append(\"Structure\")\n",
        "stack.append(\"and Algorithms\")\n",
        "print(stack)\n",
        "print(stack.pop())\n",
        "print(stack)\n",
        "print(stack.pop())\n",
        "print(stack)"
      ],
      "metadata": {
        "colab": {
          "base_uri": "https://localhost:8080/"
        },
        "id": "RC69ACO0-7up",
        "outputId": "b84decea-2986-4c50-d5a5-33bf97bbaea2"
      },
      "execution_count": null,
      "outputs": [
        {
          "output_type": "stream",
          "name": "stdout",
          "text": [
            "['This is', 'Python', 'Data', 'Structure', 'and Algorithms']\n",
            "and Algorithms\n",
            "['This is', 'Python', 'Data', 'Structure']\n",
            "Structure\n",
            "['This is', 'Python', 'Data']\n"
          ]
        }
      ]
    },
    {
      "cell_type": "code",
      "source": [
        "# stack implementation using collection deque having time complexity is O(1)\n",
        "from collections import deque\n",
        "stack=deque()\n",
        "stack.append(\"This is\")\n",
        "stack.append(\"Python\")\n",
        "stack.append(\"Data\")\n",
        "stack.append(\"Structure\")\n",
        "stack.append(\"and Algorithms\")\n",
        "print(stack)\n",
        "print(stack.pop())\n",
        "print(stack)\n",
        "print(stack.pop())\n",
        "print(stack)"
      ],
      "metadata": {
        "colab": {
          "base_uri": "https://localhost:8080/"
        },
        "id": "zwQqIM67AFyC",
        "outputId": "9379a6a9-e523-4554-f0ba-35afc4512ddf"
      },
      "execution_count": null,
      "outputs": [
        {
          "output_type": "stream",
          "name": "stdout",
          "text": [
            "deque(['This is', 'Python', 'Data', 'Structure', 'and Algorithms'])\n",
            "and Algorithms\n",
            "deque(['This is', 'Python', 'Data', 'Structure'])\n",
            "Structure\n",
            "deque(['This is', 'Python', 'Data'])\n"
          ]
        }
      ]
    },
    {
      "cell_type": "markdown",
      "source": [
        "Functions associate with stack with time complexity for each function is O(1)\n",
        "\n",
        "- put( ) - insert element\n",
        "- get( ) - remove element\n",
        "- qsize( ) - size of queue\n",
        "- full( ) - returns true when queue is full\n",
        "- empty( ) - returns true for empty\n",
        "- maxsize( ) - maximun no of elements allowed"
      ],
      "metadata": {
        "id": "fxi8Pk6hUR5q"
      }
    },
    {
      "cell_type": "code",
      "source": [
        "# stack implementation using queue \n",
        "\n",
        "from queue import LifoQueue\n",
        "\n",
        "stack = LifoQueue(maxsize=4)\n",
        "stack.put(\"This is\")\n",
        "# stack.put(\"Python\")\n",
        "stack.put(\"Data\")\n",
        "stack.put(\"Structure\")\n",
        "stack.put(\"and Algorithms\")\n",
        "print(stack.qsize() )\n",
        "print(stack.full())\n",
        "stack.get()\n",
        "\n",
        "stack.get()\n",
        "print(stack.full())\n",
        "\n"
      ],
      "metadata": {
        "colab": {
          "base_uri": "https://localhost:8080/"
        },
        "id": "PnysBuANFEQi",
        "outputId": "5c9bfd66-d2af-457b-9f2c-a9c8809f19de"
      },
      "execution_count": null,
      "outputs": [
        {
          "output_type": "stream",
          "name": "stdout",
          "text": [
            "4\n",
            "True\n",
            "False\n"
          ]
        }
      ]
    },
    {
      "cell_type": "markdown",
      "source": [
        "##**Queue**\n",
        "* Works on the basis of First-In-First-Out (FIFO) principle.\n",
        "* queues have both Head & Tail sections.\n",
        "* operations can beperformed from both the head & the tail.\n",
        "\n",
        "Functions associate with queue with time complexity for each function is O(1)\n",
        "\n",
        "- enqueue( ) - insert element at top\n",
        "- dequeue( ) - removes top element\n",
        "- peekfirst( ) - get 1st element\n",
        "- peeklast( ) - get last element\n",
        "- display( ) - print element\n",
        "\n",
        "APPLICATOINS\n",
        "- Scheduling eg. FIFO, Round Robin, Multilevel queue\n",
        "- Maintaining Playlist \n",
        "- Interrupt Handling\n",
        "\n"
      ],
      "metadata": {
        "id": "gD4HNmF74oBt"
      }
    },
    {
      "cell_type": "code",
      "source": [
        "# implementation of linear queue\n",
        "class Queue:\n",
        "  def __init__(self):\n",
        "    self.queue=[]\n",
        "  def enqueue(self,element):\n",
        "    self.queue.append(element)\n",
        "  def dequeue(self):\n",
        "    if len(self.queue) <1:\n",
        "      return None\n",
        "    return self.queue.pop(0)\n",
        "  def display(self):\n",
        "    print(self.queue)\n",
        "  def size(self):\n",
        "    return len(self.queue)\n",
        "\n",
        "q=Queue()\n",
        "q.enqueue(2)\n",
        "q.enqueue(21)\n",
        "q.enqueue(20)\n",
        "q.enqueue(12)\n",
        "q.enqueue(22)\n",
        "q.display()\n",
        "q.dequeue()\n",
        "q.display()"
      ],
      "metadata": {
        "colab": {
          "base_uri": "https://localhost:8080/"
        },
        "id": "hYIza-0bbRTR",
        "outputId": "99865b5f-0fc4-4afc-96c1-aeb8816e7f9a"
      },
      "execution_count": null,
      "outputs": [
        {
          "output_type": "stream",
          "name": "stdout",
          "text": [
            "[2, 21, 20, 12, 22]\n",
            "[21, 20, 12, 22]\n"
          ]
        }
      ]
    },
    {
      "cell_type": "code",
      "source": [
        "# Circular Queue implementation in Python\n",
        "\n",
        "\n",
        "class MyCircularQueue():\n",
        "\n",
        "    def __init__(self, k):\n",
        "        self.k = k\n",
        "        self.queue = [None] * k\n",
        "        self.head = self.tail = -1\n",
        "\n",
        "    # Insert an element into the circular queue\n",
        "    def enqueue(self, data):\n",
        "\n",
        "        if ((self.tail + 1) % self.k == self.head):\n",
        "            print(\"The circular queue is full\\n\")\n",
        "\n",
        "        elif (self.head == -1):\n",
        "            self.head = 0\n",
        "            self.tail = 0\n",
        "            self.queue[self.tail] = data\n",
        "        else:\n",
        "            self.tail = (self.tail + 1) % self.k\n",
        "            self.queue[self.tail] = data\n",
        "\n",
        "    # Delete an element from the circular queue\n",
        "    def dequeue(self):\n",
        "        if (self.head == -1):\n",
        "            print(\"The circular queue is empty\\n\")\n",
        "\n",
        "        elif (self.head == self.tail):\n",
        "            temp = self.queue[self.head]\n",
        "            self.head = -1\n",
        "            self.tail = -1\n",
        "            return temp\n",
        "        else:\n",
        "            temp = self.queue[self.head]\n",
        "            self.head = (self.head + 1) % self.k\n",
        "            return temp\n",
        "\n",
        "    def printCQueue(self):\n",
        "        if(self.head == -1):\n",
        "            print(\"No element in the circular queue\")\n",
        "\n",
        "        elif (self.tail >= self.head):\n",
        "            for i in range(self.head, self.tail + 1):\n",
        "                print(self.queue[i], end=\" \")\n",
        "            print()\n",
        "        else:\n",
        "            for i in range(self.head, self.k):\n",
        "                print(self.queue[i], end=\" \")\n",
        "            for i in range(0, self.tail + 1):\n",
        "                print(self.queue[i], end=\" \")\n",
        "            print()\n",
        "\n",
        "\n",
        "# Your MyCircularQueue object will be instantiated and called as such:\n",
        "obj = MyCircularQueue(5)\n",
        "obj.enqueue(1)\n",
        "obj.enqueue(2)\n",
        "obj.enqueue(3)\n",
        "obj.enqueue(4)\n",
        "obj.enqueue(5)\n",
        "print(\"Initial queue\")\n",
        "obj.printCQueue()\n",
        "obj.dequeue()\n",
        "print(\"After removing an element from the queue\")\n",
        "obj.printCQueue()\n",
        "obj.enqueue(51)\n",
        "obj.printCQueue()\n",
        "obj.enqueue(50)\n",
        "obj.printCQueue()"
      ],
      "metadata": {
        "colab": {
          "base_uri": "https://localhost:8080/"
        },
        "id": "MG-NBDKQdAIl",
        "outputId": "96a281d0-93ec-4d4d-cc3f-456adf1f5480"
      },
      "execution_count": null,
      "outputs": [
        {
          "output_type": "stream",
          "name": "stdout",
          "text": [
            "Initial queue\n",
            "1 2 3 4 5 \n",
            "After removing an element from the queue\n",
            "2 3 4 5 \n",
            "2 3 4 5 51 \n",
            "The circular queue is full\n",
            "\n",
            "2 3 4 5 51 \n"
          ]
        }
      ]
    },
    {
      "cell_type": "markdown",
      "source": [
        "\n",
        "##**Graph**\n",
        "* Nodes are also called as vertices & edges are called as arcs.\n",
        "* A valid graph structure consists of finite set of nodes & edges\n",
        "* eg. everyone on facebook is a vertex in the network. \n",
        "\n",
        "A graph is a nonlinear data structure consisting of nodes and edges. The nodes are sometimes also referred to as vertices and the edges are lines or arcs that connect any two nodes in the graph. More formally a Graph can be defined as a Graph consisting of a finite set of vertices(or nodes) and a set of edges that connect a pair of nodes."
      ],
      "metadata": {
        "id": "pvhjpMKd4coc"
      }
    },
    {
      "cell_type": "markdown",
      "source": [
        "In the above Graph, the set of vertices V = {0,1,2,3,4} and the set of edges E = {01, 12, 23, 34, 04, 14, 13}. The following two are the most commonly used representations of a graph.\n",
        "\n",
        "1.   Adjacency Matrix\n",
        "2.   Adjacency List\n"
      ],
      "metadata": {
        "id": "-TvAlNMd6gVw"
      }
    },
    {
      "cell_type": "markdown",
      "source": [
        "### **Adjacency Matrix**\n",
        "\n",
        "Adjacency Matrix is a 2D array of size V x V where V is the number of vertices in a graph. Let the 2D array be adj[][], a slot adj[i][j] = 1 indicates that there is an edge from vertex i to vertex j. The adjacency matrix for an undirected graph is always symmetric. Adjacency Matrix is also used to represent weighted graphs. If adj[i][j] = w, then there is an edge from vertex i to vertex j with weight w. "
      ],
      "metadata": {
        "id": "QTjiDO-GEDri"
      }
    },
    {
      "cell_type": "code",
      "source": [
        "# A simple representation of graph using Adjacency Matrix\n",
        "class Graph:\n",
        "\tdef __init__(self,numvertex):\n",
        "\t\tself.adjMatrix = [[-1]*numvertex for x in range(numvertex)]\n",
        "\t\tself.numvertex = numvertex\n",
        "\t\tself.vertices = {}\n",
        "\t\tself.verticeslist =[0]*numvertex\n",
        "\n",
        "\tdef set_vertex(self,vtx,id):\n",
        "\t\tif 0<=vtx<=self.numvertex:\n",
        "\t\t\tself.vertices[id] = vtx\n",
        "\t\t\tself.verticeslist[vtx] = id\n",
        "\n",
        "\tdef set_edge(self,frm,to,cost=0):\n",
        "\t\tfrm = self.vertices[frm]\n",
        "\t\tto = self.vertices[to]\n",
        "\t\tself.adjMatrix[frm][to] = cost\n",
        "\t\t\n",
        "\t\t# for directed graph do not add this\n",
        "\t\tself.adjMatrix[to][frm] = cost\n",
        "\n",
        "\tdef get_vertex(self):\n",
        "\t\treturn self.verticeslist\n",
        "\n",
        "\tdef get_edges(self):\n",
        "\t\tedges=[]\n",
        "\t\tfor i in range (self.numvertex):\n",
        "\t\t\tfor j in range (self.numvertex):\n",
        "\t\t\t\tif (self.adjMatrix[i][j]!=-1):\n",
        "\t\t\t\t\tedges.append((self.verticeslist[i],self.verticeslist[j],self.adjMatrix[i][j]))\n",
        "\t\treturn edges\n",
        "\t\t\n",
        "\tdef get_matrix(self):\n",
        "\t\treturn self.adjMatrix\n",
        "\n",
        "G =Graph(6)\n",
        "G.set_vertex(0,'a')\n",
        "G.set_vertex(1,'b')\n",
        "G.set_vertex(2,'c')\n",
        "G.set_vertex(3,'d')\n",
        "G.set_vertex(4,'e')\n",
        "G.set_vertex(5,'f')\n",
        "G.set_edge('a','e',10)\n",
        "G.set_edge('a','c',20)\n",
        "G.set_edge('c','b',30)\n",
        "G.set_edge('b','e',40)\n",
        "G.set_edge('e','d',50)\n",
        "G.set_edge('f','e',60)\n",
        "\n",
        "print(\"Vertices of Graph\")\n",
        "print(G.get_vertex())\n",
        "\n",
        "print(\"Edges of Graph\")\n",
        "print(G.get_edges())\n",
        "\n",
        "print(\"Adjacency Matrix of Graph\")\n",
        "print(G.get_matrix())\n"
      ],
      "metadata": {
        "colab": {
          "base_uri": "https://localhost:8080/"
        },
        "id": "9rXisiJh6e85",
        "outputId": "e4caf5e7-d622-4d2c-f39f-7a7018307558"
      },
      "execution_count": null,
      "outputs": [
        {
          "output_type": "stream",
          "name": "stdout",
          "text": [
            "Vertices of Graph\n",
            "['a', 'b', 'c', 'd', 'e', 'f']\n",
            "Edges of Graph\n",
            "[('a', 'c', 20), ('a', 'e', 10), ('b', 'c', 30), ('b', 'e', 40), ('c', 'a', 20), ('c', 'b', 30), ('d', 'e', 50), ('e', 'a', 10), ('e', 'b', 40), ('e', 'd', 50), ('e', 'f', 60), ('f', 'e', 60)]\n",
            "Adjacency Matrix of Graph\n",
            "[[-1, -1, 20, -1, 10, -1], [-1, -1, 30, -1, 40, -1], [20, 30, -1, -1, -1, -1], [-1, -1, -1, -1, 50, -1], [10, 40, -1, 50, -1, 60], [-1, -1, -1, -1, 60, -1]]\n"
          ]
        }
      ]
    },
    {
      "cell_type": "markdown",
      "source": [
        "###**Adjacency List**\n",
        "\n",
        "An array of lists is used. The size of the array is equal to the number of vertices. Let the array be an array[]. An entry array[i] represents the list of vertices adjacent to the ith vertex. This representation can also be used to represent a weighted graph. The weights of edges can be represented as lists of pairs. Following is the adjacency list representation of the above graph. "
      ],
      "metadata": {
        "id": "QGhOHrZM6xzp"
      }
    },
    {
      "cell_type": "code",
      "source": [
        "# A class to represent the adjacency list of the node\n",
        "class AdjNode:\n",
        "\tdef __init__(self, data):\n",
        "\t\tself.vertex = data\n",
        "\t\tself.next = None\n",
        "\n",
        "\n",
        "# A class to represent a graph. A graph\n",
        "# is the list of the adjacency lists.\n",
        "# Size of the array will be the no. of the\n",
        "# vertices \"V\"\n",
        "class Graph:\n",
        "\tdef __init__(self, vertices):\n",
        "\t\tself.V = vertices\n",
        "\t\tself.graph = [None] * self.V\n",
        "\n",
        "\t# Function to add an edge in an undirected graph\n",
        "\tdef add_edge(self, src, dest):\n",
        "\t\n",
        "\t\t# Adding the node to the source node\n",
        "\t\tnode = AdjNode(dest)\n",
        "\t\tnode.next = self.graph[src]\n",
        "\t\tself.graph[src] = node\n",
        "\n",
        "\t\t# Adding the source node to the destination as\n",
        "\t\t# it is the undirected graph\n",
        "\t\tnode = AdjNode(src)\n",
        "\t\tnode.next = self.graph[dest]\n",
        "\t\tself.graph[dest] = node\n",
        "\n",
        "\t# Function to print the graph\n",
        "\tdef print_graph(self):\n",
        "\t\tfor i in range(self.V):\n",
        "\t\t\tprint(\"Adjacency list of vertex {}\\n head\".format(i), end=\"\")\n",
        "\t\t\ttemp = self.graph[i]\n",
        "\t\t\twhile temp:\n",
        "\t\t\t\tprint(\" -> {}\".format(temp.vertex), end=\"\")\n",
        "\t\t\t\ttemp = temp.next\n",
        "\t\t\tprint(\" \\n\")\n",
        "\n",
        "\n",
        "# Driver program to the above graph class\n",
        "if __name__ == \"__main__\":\n",
        "\tV = 5\n",
        "\tgraph = Graph(V)\n",
        "\tgraph.add_edge(0, 1)\n",
        "\tgraph.add_edge(0, 4)\n",
        "\tgraph.add_edge(1, 2)\n",
        "\tgraph.add_edge(1, 3)\n",
        "\tgraph.add_edge(1, 4)\n",
        "\tgraph.add_edge(2, 3)\n",
        "\tgraph.add_edge(3, 4)\n",
        "\n",
        "\tgraph.print_graph()\n"
      ],
      "metadata": {
        "colab": {
          "base_uri": "https://localhost:8080/"
        },
        "id": "JeqUzOVF5c4X",
        "outputId": "37556da5-c04e-4bf1-b043-a224468d0c87"
      },
      "execution_count": null,
      "outputs": [
        {
          "output_type": "stream",
          "name": "stdout",
          "text": [
            "Adjacency list of vertex 0\n",
            " head -> 4 -> 1 \n",
            "\n",
            "Adjacency list of vertex 1\n",
            " head -> 4 -> 3 -> 2 -> 0 \n",
            "\n",
            "Adjacency list of vertex 2\n",
            " head -> 3 -> 1 \n",
            "\n",
            "Adjacency list of vertex 3\n",
            " head -> 4 -> 2 -> 1 \n",
            "\n",
            "Adjacency list of vertex 4\n",
            " head -> 3 -> 1 -> 0 \n",
            "\n"
          ]
        }
      ]
    },
    {
      "cell_type": "markdown",
      "source": [
        "### **Graph Traversal**"
      ],
      "metadata": {
        "id": "90nnQYmVEdH3"
      }
    },
    {
      "cell_type": "markdown",
      "source": [
        "#### **Breadth-First Search or BFS**\n",
        "Breadth-First Traversal for a graph is similar to Breadth-First Traversal of a tree. The only catch here is, unlike trees, graphs may contain cycles, so we may come to the same node again. To avoid processing a node more than once, we use a boolean visited array. For simplicity, it is assumed that all vertices are reachable from the starting vertex.\n",
        "\n",
        "For example, in the following graph, we start traversal from vertex 2. When we come to vertex 0, we look for all adjacent vertices of it. 2 is also an adjacent vertex of 0. If we don’t mark visited vertices, then 2 will be processed again and it will become a non-terminating process. A Breadth-First Traversal of the following graph is 2, 0, 3, 1."
      ],
      "metadata": {
        "id": "99SbHRaR66bR"
      }
    },
    {
      "cell_type": "code",
      "source": [
        "# Python3 Program to print BFS traversal\n",
        "# from a given source vertex. BFS(int s)\n",
        "# traverses vertices reachable from s.\n",
        "from collections import defaultdict\n",
        "\n",
        "# This class represents a directed graph\n",
        "# using adjacency list representation\n",
        "class Graph:\n",
        "\n",
        "\t# Constructor\n",
        "\tdef __init__(self):\n",
        "\n",
        "\t\t# default dictionary to store graph\n",
        "\t\tself.graph = defaultdict(list)\n",
        "\n",
        "\t# function to add an edge to graph\n",
        "\tdef addEdge(self,u,v):\n",
        "\t\tself.graph[u].append(v)\n",
        "\n",
        "\t# Function to print a BFS of graph\n",
        "\tdef BFS(self, s):\n",
        "\n",
        "\t\t# Mark all the vertices as not visited\n",
        "\t\tvisited = [False] * (max(self.graph) + 1)\n",
        "\n",
        "\t\t# Create a queue for BFS\n",
        "\t\tqueue = []\n",
        "\n",
        "\t\t# Mark the source node as\n",
        "\t\t# visited and enqueue it\n",
        "\t\tqueue.append(s)\n",
        "\t\tvisited[s] = True\n",
        "\n",
        "\t\twhile queue:\n",
        "\n",
        "\t\t\t# Dequeue a vertex from\n",
        "\t\t\t# queue and print it\n",
        "\t\t\ts = queue.pop(0)\n",
        "\t\t\tprint (s, end = \" \")\n",
        "\n",
        "\t\t\t# Get all adjacent vertices of the\n",
        "\t\t\t# dequeued vertex s. If a adjacent\n",
        "\t\t\t# has not been visited, then mark it\n",
        "\t\t\t# visited and enqueue it\n",
        "\t\t\tfor i in self.graph[s]:\n",
        "\t\t\t\tif visited[i] == False:\n",
        "\t\t\t\t\tqueue.append(i)\n",
        "\t\t\t\t\tvisited[i] = True\n",
        "\n",
        "# Driver code\n",
        "\n",
        "# Create a graph given in\n",
        "# the above diagram\n",
        "g = Graph()\n",
        "g.addEdge(0, 1)\n",
        "g.addEdge(0, 2)\n",
        "g.addEdge(1, 2)\n",
        "g.addEdge(2, 0)\n",
        "g.addEdge(2, 3)\n",
        "g.addEdge(3, 3)\n",
        "\n",
        "print (\"Following is Breadth First Traversal\"\n",
        "\t\t\t\t\" (starting from vertex 2)\")\n",
        "g.BFS(2)\n"
      ],
      "metadata": {
        "colab": {
          "base_uri": "https://localhost:8080/"
        },
        "id": "aNYmEuR47HqY",
        "outputId": "5e5946d1-cbda-48c0-b0a0-40dddffb1810"
      },
      "execution_count": null,
      "outputs": [
        {
          "output_type": "stream",
          "name": "stdout",
          "text": [
            "Following is Breadth First Traversal (starting from vertex 2)\n",
            "2 0 3 1 "
          ]
        }
      ]
    },
    {
      "cell_type": "markdown",
      "source": [
        "Time Complexity: O(V+E) where V is the number of vertices in the graph and E is the number of edges in the graph."
      ],
      "metadata": {
        "id": "evxkVhNz7LhT"
      }
    },
    {
      "cell_type": "markdown",
      "source": [
        "#### **Depth First Search or DFS**\n",
        "\n",
        "Depth First Traversal for a graph is similar to Depth First Traversal of a tree. The only catch here is, unlike trees, graphs may contain cycles, a node may be visited twice. To avoid processing a node more than once, use a boolean visited array.\n",
        "\n",
        "**Algorithm:**\n",
        "\n",
        "Create a recursive function that takes the index of the node and a visited array.\n",
        "Mark the current node as visited and print the node.\n",
        "Traverse all the adjacent and unmarked nodes and call the recursive function with the index of the adjacent node."
      ],
      "metadata": {
        "id": "X-ZviAcg7M04"
      }
    },
    {
      "cell_type": "code",
      "source": [
        "# Python3 program to print DFS traversal\n",
        "# from a given given graph\n",
        "from collections import defaultdict\n",
        "\n",
        "# This class represents a directed graph using\n",
        "# adjacency list representation\n",
        "class Graph:\n",
        "\n",
        "\t# Constructor\n",
        "\tdef __init__(self):\n",
        "\n",
        "\t\t# default dictionary to store graph\n",
        "\t\tself.graph = defaultdict(list)\n",
        "\n",
        "\t# function to add an edge to graph\n",
        "\tdef addEdge(self, u, v):\n",
        "\t\tself.graph[u].append(v)\n",
        "\n",
        "\t# A function used by DFS\n",
        "\tdef DFSUtil(self, v, visited):\n",
        "\n",
        "\t\t# Mark the current node as visited\n",
        "\t\t# and print it\n",
        "\t\tvisited.add(v)\n",
        "\t\tprint(v, end=' ')\n",
        "\n",
        "\t\t# Recur for all the vertices\n",
        "\t\t# adjacent to this vertex\n",
        "\t\tfor neighbour in self.graph[v]:\n",
        "\t\t\tif neighbour not in visited:\n",
        "\t\t\t\tself.DFSUtil(neighbour, visited)\n",
        "\n",
        "\t# The function to do DFS traversal. It uses\n",
        "\t# recursive DFSUtil()\n",
        "\tdef DFS(self, v):\n",
        "\n",
        "\t\t# Create a set to store visited vertices\n",
        "\t\tvisited = set()\n",
        "\n",
        "\t\t# Call the recursive helper function\n",
        "\t\t# to print DFS traversal\n",
        "\t\tself.DFSUtil(v, visited)\n",
        "\n",
        "# Driver code\n",
        "\n",
        "# Create a graph given\n",
        "# in the above diagram\n",
        "g = Graph()\n",
        "g.addEdge(0, 1)\n",
        "g.addEdge(0, 2)\n",
        "g.addEdge(1, 2)\n",
        "g.addEdge(2, 0)\n",
        "g.addEdge(2, 3)\n",
        "g.addEdge(3, 3)\n",
        "\n",
        "print(\"Following is DFS from (starting from vertex 2)\")\n",
        "g.DFS(2)\n"
      ],
      "metadata": {
        "colab": {
          "base_uri": "https://localhost:8080/"
        },
        "id": "2JqQmUSx7U3G",
        "outputId": "5fc213a2-ed60-4a6f-8e41-aa3374052a2a"
      },
      "execution_count": null,
      "outputs": [
        {
          "output_type": "stream",
          "name": "stdout",
          "text": [
            "Following is DFS from (starting from vertex 2)\n",
            "2 0 1 3 "
          ]
        }
      ]
    },
    {
      "cell_type": "markdown",
      "source": [
        "##**Linked Lists**\n",
        "* collection or group of node.\n",
        "* each data element is connected to another one via pointers.\n",
        "* python does not have linked lists in its standard library.\n",
        "* implementation has to be done using lists manually.\n",
        "* more efficiency for performing operation as compared to list.\n",
        "* utilization of memory is higher than list.\n",
        "\n",
        "Types of Linked List\n",
        "\n",
        "1.   Singly Linked List\n",
        "2.   Doubly Linked List \n",
        "3.   Circular Linked List\n",
        "\n",
        "\n",
        "\n",
        "Operations\n",
        "\n",
        "* Insertion \n",
        "** Beginning \n",
        "** at specifined node\n",
        "** end\n",
        "\n",
        "* Deletion \n",
        "** Beginning \n",
        "** at specifined node\n",
        "** end\n",
        "\n",
        "* Traversal \n",
        "** Going through each node of the linked list \n",
        "\n",
        "**Pseudo Code Singly Linked List**"
      ],
      "metadata": {
        "id": "3RrLpNFS4cSd"
      }
    },
    {
      "cell_type": "code",
      "source": [
        "# Node class\n",
        "class Node:\n",
        "\n",
        "\t# Function to initialize the node object\n",
        "\tdef __init__(self, data):\n",
        "\t\tself.data = data # Assign data\n",
        "\t\tself.next = None # Initialize\n",
        "\t\t\t\t\t\t# next as null\n",
        "\n",
        "# Linked List class\n",
        "class LinkedList:\n",
        "\t\n",
        "\t# Function to initialize the Linked\n",
        "\t# List object\n",
        "\tdef __init__(self):\n",
        "\t\tself.head = None\n"
      ],
      "metadata": {
        "id": "WBRw4e-0U-LA"
      },
      "execution_count": null,
      "outputs": []
    },
    {
      "cell_type": "code",
      "source": [
        "# A simple Python program to introduce a linked list\n",
        "\n",
        "# Node class\n",
        "class Node:\n",
        "\n",
        "\t# Function to initialise the node object\n",
        "\tdef __init__(self, data):\n",
        "\t\tself.data = data # Assign data\n",
        "\t\tself.next = None # Initialize next as null\n",
        "\n",
        "\n",
        "# Linked List class contains a Node object\n",
        "class LinkedList:\n",
        "\n",
        "\t# Function to initialize head\n",
        "\tdef __init__(self):\n",
        "\t\tself.head = None\n",
        "\n",
        "\n",
        "# Code execution starts here\n",
        "if __name__=='__main__':\n",
        "\n",
        "\t# Start with the empty list\n",
        "\tllist = LinkedList()\n",
        "\n",
        "\tllist.head = Node(1)\n",
        "\tsecond = Node(2)\n",
        "\tthird = Node(3)\n",
        "\n",
        "\t'''\n",
        "\tThree nodes have been created.\n",
        "\tWe have references to these three blocks as head,\n",
        "\tsecond and third\n",
        "\n",
        "\tllist.head\t second\t\t\t third\n",
        "\t\t|\t\t\t |\t\t\t\t |\n",
        "\t\t|\t\t\t |\t\t\t\t |\n",
        "\t+----+------+\t +----+------+\t +----+------+\n",
        "\t| 1 | None |\t | 2 | None |\t | 3 | None |\n",
        "\t+----+------+\t +----+------+\t +----+------+\n",
        "\t'''\n",
        "\n",
        "\tllist.head.next = second; # Link first node with second\n",
        "\n",
        "\t'''\n",
        "\tNow next of first Node refers to second. So they\n",
        "\tboth are linked.\n",
        "\n",
        "\tllist.head\t second\t\t\t third\n",
        "\t\t|\t\t\t |\t\t\t\t |\n",
        "\t\t|\t\t\t |\t\t\t\t |\n",
        "\t+----+------+\t +----+------+\t +----+------+\n",
        "\t| 1 | o-------->| 2 | null |\t | 3 | null |\n",
        "\t+----+------+\t +----+------+\t +----+------+\n",
        "\t'''\n",
        "\n",
        "\tsecond.next = third; # Link second node with the third node\n",
        "\n",
        "\t'''\n",
        "\tNow next of second Node refers to third. So all three\n",
        "\tnodes are linked.\n",
        "\n",
        "\tllist.head\t second\t\t\t third\n",
        "\t\t|\t\t\t |\t\t\t\t |\n",
        "\t\t|\t\t\t |\t\t\t\t |\n",
        "\t+----+------+\t +----+------+\t +----+------+\n",
        "\t| 1 | o-------->| 2 | o-------->| 3 | null |\n",
        "\t+----+------+\t +----+------+\t +----+------+\n",
        "\t'''\n"
      ],
      "metadata": {
        "id": "WSvLRXXOfjqk"
      },
      "execution_count": null,
      "outputs": []
    },
    {
      "cell_type": "code",
      "source": [
        "# A simple Python program for traversal of a linked list\n",
        "\n",
        "# Node class\n",
        "class Node:\n",
        "\n",
        "\t# Function to initialise the node object\n",
        "\tdef __init__(self, data):\n",
        "\t\tself.data = data # Assign data\n",
        "\t\tself.next = None # Initialize next as null\n",
        "\n",
        "\n",
        "# Linked List class contains a Node object\n",
        "class LinkedList:\n",
        "\n",
        "\t# Function to initialize head\n",
        "\tdef __init__(self):\n",
        "\t\tself.head = None\n",
        "\n",
        "\t# This function prints contents of linked list\n",
        "\t# starting from head\n",
        "\tdef printList(self):\n",
        "\t\ttemp = self.head\n",
        "\t\twhile (temp):\n",
        "\t\t\tprint (temp.data)\n",
        "\t\t\ttemp = temp.next\n",
        "\n",
        "\n",
        "# Code execution starts here\n",
        "if __name__=='__main__':\n",
        "\n",
        "\t# Start with the empty list\n",
        "\tllist = LinkedList()\n",
        "\n",
        "\tllist.head = Node(1)\n",
        "\tsecond = Node(2)\n",
        "\tthird = Node(3)\n",
        "\n",
        "\tllist.head.next = second; # Link first node with second\n",
        "\tsecond.next = third; # Link second node with the third node\n",
        "\n",
        "\tllist.printList()\n"
      ],
      "metadata": {
        "id": "y_JNQpI61K5w",
        "colab": {
          "base_uri": "https://localhost:8080/"
        },
        "outputId": "a22edd84-58e5-4fb6-d557-0bc75aab347c"
      },
      "execution_count": null,
      "outputs": [
        {
          "output_type": "stream",
          "name": "stdout",
          "text": [
            "1\n",
            "2\n",
            "3\n"
          ]
        }
      ]
    },
    {
      "cell_type": "code",
      "source": [
        "class Node:\n",
        "  def __init__(self,data):\n",
        "    self.data=data #n1.data=8,n2.data=10,n3.data=11,n4.data=12,nb.data=3,ne.data=1,npn.data=43\n",
        "    self.reference=None #all references is None here\n",
        "\n",
        "class LinkedList:\n",
        "  def __init__(self):\n",
        "    self.head=None        #sll.head=None\n",
        "  \n",
        "  def traversal(self):\n",
        "    if self.head is None:\n",
        "      print(\"empty\")\n",
        "    else:\n",
        "      a=self.head                   #a=sll.head\n",
        "      while a is not None:          #a=sll.head=n1 #a=n1.next\n",
        "        print(a.data,end=\" \")       #a.data=n1.data, n2.data\n",
        "        a=a.reference               #a=n1.reference, a=n2.reference\n",
        " \n",
        "  def insertion_at_head(self,data): #data=8\n",
        "    print()\n",
        "    # insertion at head\n",
        "    nb=Node(data)                   #nb=Node(8)\n",
        "    nb.reference=self.head          #nb.reference=n1\n",
        "    self.head=nb                    #all.head=nb\n",
        "    #insertion at end\n",
        "\n",
        "  def insertion_at_end(self,data): #data=1\n",
        "    print()\n",
        "    ne=Node(data)\n",
        "    a=self.head                    #a=sll.head=nb\n",
        "    while a.reference is not None: #a.reference=nb.reference #n1.next....n4.reference\n",
        "      a=a.reference                #a=nb.reference=n1 #a=n2.........n4\n",
        "    a.reference=ne                 #n4.reference=ne\n",
        "\n",
        "  def insert_at_specified_node(self,position,data): #position=4,data=43\n",
        "    print()\n",
        "    npn=Node(data)\n",
        "    a=self.head                   #a=sll.head=nb\n",
        "    # position=int(input(\"enter num:\"))\n",
        "    for i in range(1,position-1):   #i=1\n",
        "      a=a.reference                 #a=nb.reference=n1\n",
        "    npn.reference=a.reference       #npn.reference=n1.reference=n2=n3\n",
        "    a.reference=npn                 #a.next=n1.reference=npn\n",
        "\n",
        "  def deletion_at_start(self):\n",
        "    print()\n",
        "    a=self.head\n",
        "    self.head=a.reference\n",
        "    a.reference=None\n",
        "\n",
        "  def deletion_at_end(self):\n",
        "    print()\n",
        "    prev=self.head\n",
        "    a=self.head.reference\n",
        "    while a.reference is not None:\n",
        "      a=a.reference\n",
        "      prev=prev.reference\n",
        "    prev.reference=None\n",
        "\n",
        "  def deletion_at_specified(self,position):\n",
        "    print()\n",
        "    prev=self.head\n",
        "    a=self.head.reference\n",
        "    for i in range(1,position-1):\n",
        "      a=a.reference\n",
        "      prev=prev.reference\n",
        "    prev.reference=a.reference\n",
        "    a.reference=None\n",
        "\n",
        "\n",
        "sll=LinkedList()\n",
        "n1=Node(8)\n",
        "sll.head=n1\n",
        "n2=Node(10)\n",
        "n1.reference=n2\n",
        "n3=Node(11)\n",
        "n2.reference=n3\n",
        "n4=Node(12)\n",
        "n3.reference=n4\n",
        "sll.traversal()\n",
        "sll.insertion_at_head(3)\n",
        "sll.traversal()\n",
        "sll.insertion_at_end(1)\n",
        "sll.traversal()\n",
        "sll.insert_at_specified_node(4,43)\n",
        "sll.traversal()\n",
        "sll.deletion_at_start()\n",
        "sll.traversal()\n",
        "sll.deletion_at_end()\n",
        "sll.traversal()\n",
        "sll.deletion_at_specified(3)\n",
        "sll.traversal()"
      ],
      "metadata": {
        "colab": {
          "base_uri": "https://localhost:8080/"
        },
        "id": "hid2jjybCa1u",
        "outputId": "0307a701-9504-4194-d4b7-f17fce472bdb"
      },
      "execution_count": null,
      "outputs": [
        {
          "output_type": "stream",
          "name": "stdout",
          "text": [
            "8 10 11 12 \n",
            "3 8 10 11 12 \n",
            "3 8 10 11 12 1 \n",
            "3 8 10 43 11 12 1 \n",
            "8 10 43 11 12 1 \n",
            "8 10 43 11 12 \n",
            "8 10 11 12 "
          ]
        }
      ]
    },
    {
      "cell_type": "markdown",
      "source": [
        "**Doubly Linked List**\n",
        "\n",
        "* A Doubly Linked List (DLL) contains an extra pointer, typically called previous pointer, together with next pointer and data which are there in singly linked list.\n",
        "* Traversal is in forward as well as backward direction.\n",
        "\n",
        "Operations\n",
        "\n",
        "* Insertion \n",
        "** Beginning \n",
        "** at specifined node\n",
        "** end\n",
        "\n",
        "* Deletion \n",
        "** Beginning \n",
        "** at specifined node\n",
        "** end\n",
        "\n",
        "* Traversal \n",
        "** Going through each node of the linked list \n"
      ],
      "metadata": {
        "id": "YOHdZ_8lyUxs"
      }
    },
    {
      "cell_type": "code",
      "source": [
        "# creating a node in Doubly linked list\n",
        "class Node:\n",
        "  def __init__(self,data):\n",
        "    self.data=data\n",
        "    self.next=None\n",
        "    self.prev=None\n",
        "\n",
        "# creating a class of Doubly linked list\n",
        "\n",
        "class doublyLinkedList:\n",
        "  def __init__(self):\n",
        "    self.head=None"
      ],
      "metadata": {
        "id": "jZvvvfGy0uha"
      },
      "execution_count": null,
      "outputs": []
    },
    {
      "cell_type": "code",
      "source": [
        "class Node:\n",
        "  def __init__(self,data):\n",
        "    self.data=data #n1.data=8,n2.data=10,n3.data=11,n4.data=12,nb.data=3,ne.data=1,npn.data=43\n",
        "    self.next=None #all references is None here\n",
        "    self.prev=None #all previous is None here\n",
        "\n",
        "class DLinkedList:\n",
        "  def __init__(self):\n",
        "    self.head=None        #sll.head=None\n",
        "  \n",
        "  def forwrd_traversal(self):\n",
        "    if self.head is None:\n",
        "      print(\"empty\")\n",
        "    else:\n",
        "      a=self.head                   #a=sll.head\n",
        "      while a is not None:          #a=sll.head=n1 #a=n1.next\n",
        "        print(a.data,end=\" \")       #a.data=n1.data, n2.data\n",
        "        a=a.next               #a=n1.reference, a=n2.reference\n",
        " \n",
        "  def backwrd_traversal(self):\n",
        "    if self.head is None:\n",
        "      print(\"empty\")\n",
        "    else:\n",
        "      a=self.head                   #a=sll.head\n",
        "      while a.next is not None:          #a=sll.head=n1 #a=n1.next\n",
        "        a=a.next \n",
        "      while a is not None:\n",
        "        print(a.data,end=\" \")\n",
        "        a=a.prev\n",
        "\n",
        "  def insertion_at_head(self,data): #data=8\n",
        "    print()\n",
        "    # insertion at head\n",
        "    nb=Node(data)              #nb.reference=n1\n",
        "    a=self.head    \n",
        "    a.prev=nb\n",
        "    nb.next=a\n",
        "    self.head=nb\n",
        "                 \n",
        "\n",
        "  def insertion_at_end(self,data): #data=1\n",
        "    print()\n",
        "    ne=Node(data)\n",
        "    a=self.head                    #a=sll.head=nb\n",
        "    while a.next is not None: #a.reference=nb.reference #n1.next....n4.reference\n",
        "      a=a.next                #a=nb.reference=n1 #a=n2.........n4\n",
        "    a.next=ne                 #n4.reference=ne\n",
        "    ne.prev=a\n",
        "\n",
        "  def insert_at_specified_node(self,position,data): #position=4,data=43\n",
        "    print()\n",
        "    npn=Node(data)\n",
        "    a=self.head                   #a=sll.head=nb\n",
        "    for i in range(1,position-1):   #i=1\n",
        "      a=a.next                 #a=nb.reference=n1\n",
        "    npn.next=a.next       #npn.reference=n1.reference=n2=n3\n",
        "    a.next.prev=npn                 #a.next=n1.reference=npn\n",
        "    npn.prev=a\n",
        "    a.next=npn \n",
        "\n",
        "  def deletion_at_start(self):\n",
        "    print()\n",
        "    a=self.head\n",
        "    self.head=a.next\n",
        "    a.next=None\n",
        "    a.prev=None\n",
        "\n",
        "  def deletion_at_end(self):\n",
        "    print()\n",
        "    prev=self.head\n",
        "    a=self.head.next\n",
        "    while a.next is not None:\n",
        "      a=a.next\n",
        "      prev=prev.next\n",
        "    prev.next=None\n",
        "    a.prev=None\n",
        "\n",
        "  def deletion_at_specified(self,position):\n",
        "    print()\n",
        "    prev=self.head\n",
        "    a=self.head.next\n",
        "    for i in range(1,position-1):\n",
        "      a=a.next\n",
        "      prev=prev.next\n",
        "    prev.next=a.next\n",
        "    a.prev=None\n",
        "    a.next=None\n",
        "\n",
        "\n",
        "dll=DLinkedList()\n",
        "n1=Node(8)\n",
        "\n",
        "dll.head=n1\n",
        "n2=Node(10)\n",
        "n2.prev=n1\n",
        "n1.next=n2\n",
        "\n",
        "n3=Node(11)\n",
        "n3.prev=n2\n",
        "n2.next=n3\n",
        "\n",
        "n4=Node(12)\n",
        "n4.prev=n3\n",
        "n3.next=n4\n",
        "\n",
        "dll.forwrd_traversal()\n",
        "dll.backwrd_traversal()\n",
        "dll.insertion_at_head(38)\n",
        "dll.forwrd_traversal()\n",
        "dll.insertion_at_end(33)\n",
        "dll.forwrd_traversal()\n",
        "dll.insert_at_specified_node(4,54)\n",
        "dll.forwrd_traversal()\n",
        "dll.deletion_at_start()\n",
        "dll.forwrd_traversal()\n",
        "dll.deletion_at_end()\n",
        "dll.forwrd_traversal()\n",
        "dll.deletion_at_specified(3)\n",
        "dll.forwrd_traversal()"
      ],
      "metadata": {
        "colab": {
          "base_uri": "https://localhost:8080/"
        },
        "id": "Q5SMcMuW9ftS",
        "outputId": "57c1d89f-63f7-4f4d-cdde-72ea6c63e197"
      },
      "execution_count": null,
      "outputs": [
        {
          "output_type": "stream",
          "name": "stdout",
          "text": [
            "8 10 11 12 12 11 10 8 \n",
            "38 8 10 11 12 \n",
            "38 8 10 11 12 33 \n",
            "38 8 10 54 11 12 33 \n",
            "8 10 54 11 12 33 \n",
            "8 10 54 11 12 \n",
            "8 10 11 12 "
          ]
        }
      ]
    },
    {
      "cell_type": "markdown",
      "source": [
        "##**Array**\n",
        "* linear data structure.\n",
        "* contiguous memory locations.\n",
        "* Access elements randomly.\n",
        "* homogeneous elements i.e similar elements\n",
        "---\n",
        "**1-D Array**\n",
        "##### Why index of array strats with 0?\n",
        "- arr = | 1 | 2 | 3 | 4 | 5 |\n",
        "- arr =  | 0 | 1 | 2 | 3 | 4 | (index of array)\n",
        "- 100-104-108-112-116 \n",
        "- it gets add 4 byte in 100 at each index like\n",
        "- eg. 100 + arr[0] = 100 + 0 = 100 index\n",
        "- 100 + arr[3] = 100 + (3 * 4byte) = 112 index\n",
        "\n",
        "**2-D Array**\n",
        "- it can be table or matrix.\n",
        "- 2 subscripts or indices are used one row & one column\n",
        "- dimension depends upon the number of subscripts used.\n",
        "- matrix = 3 X 4\n",
        "- arr = | ! | | 0 | 1 | 2 | 3 |\n",
        "- arr = | 0 | | 5 | 6 | 7 | 8 |\n",
        "- arr = | 1 | | 9 | 0 | 3 | 5 | \n",
        "- arr = | 2 | | 1 | 2 | 3 | 4 |\n",
        "\n",
        "## Array Implementation\n",
        "- 1-D array Insert \n",
        "- 2-D array Insert \n",
        "- Implement search, sort & delete operaions "
      ],
      "metadata": {
        "id": "fp1c7nBx7uTP"
      }
    },
    {
      "cell_type": "code",
      "source": [
        "# 1-D array Insert\n",
        "\n",
        "num=int(input(\"enter array size:\"))\n",
        "j=[]\n",
        "for i in range(num):\n",
        "  val = input(\"enter values:\")\n",
        "  j.append(val)\n",
        "print(j)"
      ],
      "metadata": {
        "id": "QjQVPQZY78-w",
        "colab": {
          "base_uri": "https://localhost:8080/"
        },
        "outputId": "e0c359f7-e868-42cc-a53c-85818a954dc6"
      },
      "execution_count": null,
      "outputs": [
        {
          "output_type": "stream",
          "name": "stdout",
          "text": [
            "enter array size:4\n",
            "enter values:1\n",
            "enter values:2\n",
            "enter values:3\n",
            "enter values:4\n",
            "['1', '2', '3', '4']\n"
          ]
        }
      ]
    },
    {
      "cell_type": "code",
      "source": [
        "# 2-D array Insert\n",
        "\n",
        "row=int(input(\"enter row size:\"))\n",
        "col=int(input(\"enter colunmn size:\"))\n",
        "j=[[0 for c in range(col)] for r in range(row)]\n",
        "\n",
        "for r in range(row):\n",
        "  for c in range(col):\n",
        "    j[r][c]=r*c\n",
        "print(j)\n"
      ],
      "metadata": {
        "colab": {
          "base_uri": "https://localhost:8080/"
        },
        "id": "1he5bqizRWFB",
        "outputId": "1eecf4a8-0aa7-4492-a01b-82ca2706a495"
      },
      "execution_count": null,
      "outputs": [
        {
          "output_type": "stream",
          "name": "stdout",
          "text": [
            "enter row size:3\n",
            "enter colunmn size:2\n",
            "[[0, 0], [0, 1], [0, 2]]\n"
          ]
        }
      ]
    },
    {
      "cell_type": "code",
      "source": [
        "# Delete value from array\n",
        "\n",
        "num=int(input(\"enter array size:\"))\n",
        "arr=[]\n",
        "for i in range(num):\n",
        "  val=int(input(\"enter value:\"))\n",
        "  arr.append(val)\n",
        "\n",
        "print(arr)\n",
        "\n",
        "v1=int(input(\"enter num to delete\"))\n",
        "if v1 in arr:\n",
        "  arr.remove(v1)\n",
        "  print(arr)\n",
        "else:\n",
        "  print(\"enter valid number\") "
      ],
      "metadata": {
        "colab": {
          "base_uri": "https://localhost:8080/"
        },
        "id": "eUr1pe2xsZ-g",
        "outputId": "f394bf93-e530-4ee5-b290-e40f260b4b1a"
      },
      "execution_count": null,
      "outputs": [
        {
          "output_type": "stream",
          "name": "stdout",
          "text": [
            "enter array size:4\n",
            "enter value:3\n",
            "enter value:2\n",
            "enter value:1\n",
            "enter value:4\n",
            "[3, 2, 1, 4]\n",
            "enter num to delete4\n",
            "[3, 2, 1]\n"
          ]
        }
      ]
    },
    {
      "cell_type": "code",
      "source": [
        "# Sorting an array\n",
        "\n",
        "# arr=list(input(\"enter array:\").split( ))\n",
        "arr=[1,5,6,9,0]\n",
        "print(arr)\n",
        "for i in range(0,len(arr)):\n",
        "  for j in range(i+1,len(arr)):\n",
        "    if arr[i]>arr[j]:\n",
        "      arr[i],arr[j]=arr[j],arr[i]\n",
        "\n",
        "print(\"In ascending order:\",arr)\n",
        "\n",
        "for i in range(0,len(arr)):\n",
        "  for j in range(i+1,len(arr)):\n",
        "    if arr[i]<arr[j]:\n",
        "      arr[i],arr[j]=arr[j],arr[i]\n",
        "\n",
        "\n",
        "print(\"In descending order:\",arr)"
      ],
      "metadata": {
        "colab": {
          "base_uri": "https://localhost:8080/"
        },
        "id": "h0Xlw_3uvswi",
        "outputId": "438bcb72-0166-4827-b6f2-e15a261a82d2"
      },
      "execution_count": null,
      "outputs": [
        {
          "output_type": "stream",
          "name": "stdout",
          "text": [
            "[1, 5, 6, 9, 0]\n",
            "In ascending order: [0, 1, 5, 6, 9]\n",
            "In descending order: [9, 6, 5, 1, 0]\n"
          ]
        }
      ]
    },
    {
      "cell_type": "markdown",
      "source": [
        "##**Tree**\n",
        "* The data originates from root node of the tree.\n",
        "* Every node that procedes another node is called as the parent node.\n",
        "* last node inthe tree are called as leaves\n",
        "\n",
        "Types of trees \n",
        "1. Binary Tree\n",
        "2. Binary Searched Tree\n",
        "\n",
        "**[Binary Tree](https://www.geeksforgeeks.org/binary-tree-set-3-types-of-binary-tree/)**\n",
        "\n",
        "* **Full Binary Tree** A Binary Tree is a full binary tree if every node has 0 or 2 children. The following are the examples of a full binary tree. We can also say a full binary tree is a binary tree in which all nodes except leaf nodes have two children. \n",
        "* **Complete Binary Tree:** A Binary Tree is a Complete Binary Tree if all the levels are completely filled except possibly the last level and the last level has all keys as left as possible.\n",
        "* **Perfect Binary Tree** A Binary tree is a Perfect Binary Tree in which all the internal nodes have two children and all leaf nodes are at the same level.\n",
        "* **Balanced Binary Tree** A binary tree is balanced if the height of the tree is O(Log n) where n is the number of nodes. For Example, the AVL tree maintains O(Log n) height by making sure that the difference between the heights of the left and right subtrees is at most 1. \n",
        "\n",
        "Tree Traversals\n",
        "1. Inorder (Left, Root, Right)\n",
        "2. Preorder (Root, Left, Right) \n",
        "3. Postorder (Left, Right, Root)"
      ],
      "metadata": {
        "id": "vHHx9uCT4lnq"
      }
    },
    {
      "cell_type": "code",
      "execution_count": null,
      "metadata": {
        "id": "-Z1PFH_01ix6"
      },
      "outputs": [],
      "source": [
        "# A Python class that represents an individual node\n",
        "# in a Binary Tree\n",
        "class Node:\n",
        "\tdef __init__(self,key):\n",
        "\t\tself.left = None\n",
        "\t\tself.right = None\n",
        "\t\tself.val = key\n"
      ]
    },
    {
      "cell_type": "code",
      "source": [
        "# Python program to for tree traversals\n",
        "\n",
        "# A class that represents an individual node in a\n",
        "# Binary Tree\n",
        "class Node:\n",
        "\tdef __init__(self, key):\n",
        "\t\tself.left = None\n",
        "\t\tself.right = None\n",
        "\t\tself.val = key\n",
        "\n",
        "\n",
        "# A function to do inorder tree traversal\n",
        "def printInorder(root):\n",
        "\n",
        "\tif root:\n",
        "\n",
        "\t\t# First recur on left child\n",
        "\t\tprintInorder(root.left)\n",
        "\n",
        "\t\t# then print the data of node\n",
        "\t\tprint(root.val),\n",
        "\n",
        "\t\t# now recur on right child\n",
        "\t\tprintInorder(root.right)\n",
        "\n",
        "\n",
        "# A function to do postorder tree traversal\n",
        "def printPostorder(root):\n",
        "\n",
        "\tif root:\n",
        "\n",
        "\t\t# First recur on left child\n",
        "\t\tprintPostorder(root.left)\n",
        "\n",
        "\t\t# the recur on right child\n",
        "\t\tprintPostorder(root.right)\n",
        "\n",
        "\t\t# now print the data of node\n",
        "\t\tprint(root.val),\n",
        "\n",
        "\n",
        "# A function to do preorder tree traversal\n",
        "def printPreorder(root):\n",
        "\n",
        "\tif root:\n",
        "\n",
        "\t\t# First print the data of node\n",
        "\t\tprint(root.val),\n",
        "\n",
        "\t\t# Then recur on left child\n",
        "\t\tprintPreorder(root.left)\n",
        "\n",
        "\t\t# Finally recur on right child\n",
        "\t\tprintPreorder(root.right)\n",
        "\n",
        "\n",
        "# Driver code\n",
        "root = Node(1)\n",
        "root.left = Node(2)\n",
        "root.right = Node(3)\n",
        "root.left.left = Node(4)\n",
        "root.left.right = Node(5)\n",
        "print(\"Preorder traversal of binary tree is\")\n",
        "printPreorder(root)\n",
        "\n",
        "print(\"\\nInorder traversal of binary tree is\")\n",
        "printInorder(root)\n",
        "\n",
        "print(\"\\nPostorder traversal of binary tree is\")\n",
        "printPostorder(root)\n"
      ],
      "metadata": {
        "colab": {
          "base_uri": "https://localhost:8080/"
        },
        "id": "kk4pogQIe_m0",
        "outputId": "b43293d9-9f3b-44fc-eaf3-8f73d7285ef0"
      },
      "execution_count": null,
      "outputs": [
        {
          "output_type": "stream",
          "name": "stdout",
          "text": [
            "Preorder traversal of binary tree is\n",
            "1\n",
            "2\n",
            "4\n",
            "5\n",
            "3\n",
            "\n",
            "Inorder traversal of binary tree is\n",
            "4\n",
            "2\n",
            "5\n",
            "1\n",
            "3\n",
            "\n",
            "Postorder traversal of binary tree is\n",
            "4\n",
            "5\n",
            "2\n",
            "3\n",
            "1\n"
          ]
        }
      ]
    },
    {
      "cell_type": "markdown",
      "source": [
        "### Breadth-First or Level Order Traversal"
      ],
      "metadata": {
        "id": "6gVqWQ6zANkN"
      }
    },
    {
      "cell_type": "markdown",
      "source": [
        "Level order traversal of a tree is breadth-first traversal for the tree. The level order traversal of the above tree is 1 2 3 4 5.\n",
        "\n",
        "For each node, first, the node is visited and then its child nodes are put in a FIFO queue. Below is the algorithm for the same –\n",
        "\n",
        "Create an empty queue q\n",
        "temp_node = root /*start from root*/\n",
        "Loop while temp_node is not NULL\n",
        "print temp_node->data.\n",
        "Enqueue temp_node’s children (first left then right children) to q\n",
        "Dequeue a node from q"
      ],
      "metadata": {
        "id": "ioNYjGPX59Hs"
      }
    },
    {
      "cell_type": "code",
      "source": [
        "# Python program to print level\n",
        "# order traversal using Queue\n",
        "\n",
        "# A node structure\n",
        "class Node:\n",
        "\n",
        "\t# A utility function to create a new node\n",
        "\tdef __init__(self ,key):\n",
        "\t\tself.data = key\n",
        "\t\tself.left = None\n",
        "\t\tself.right = None\n",
        "\n",
        "# Iterative Method to print the\n",
        "# height of a binary tree\n",
        "def printLevelOrder(root):\n",
        "\n",
        "\t# Base Case\n",
        "\tif root is None:\n",
        "\t\treturn\n",
        "\t\n",
        "\t# Create an empty queue\n",
        "\t# for level order traversal\n",
        "\tqueue = []\n",
        "\n",
        "\t# Enqueue Root and initialize height\n",
        "\tqueue.append(root)\n",
        "\n",
        "\twhile(len(queue) > 0):\n",
        "\t\n",
        "\t\t# Print front of queue and\n",
        "\t\t# remove it from queue\n",
        "\t\tprint (queue[0].data)\n",
        "\t\tnode = queue.pop(0)\n",
        "\n",
        "\t\t# Enqueue left child\n",
        "\t\tif node.left is not None:\n",
        "\t\t\tqueue.append(node.left)\n",
        "\n",
        "\t\t# Enqueue right child\n",
        "\t\tif node.right is not None:\n",
        "\t\t\tqueue.append(node.right)\n",
        "\n",
        "# Driver Program to test above function\n",
        "root = Node(1)\n",
        "root.left = Node(2)\n",
        "root.right = Node(3)\n",
        "root.left.left = Node(4)\n",
        "root.left.right = Node(5)\n",
        "\n",
        "print (\"Level Order Traversal of binary tree is -\")\n",
        "printLevelOrder(root)\n"
      ],
      "metadata": {
        "colab": {
          "base_uri": "https://localhost:8080/"
        },
        "id": "k_guf91A6BYz",
        "outputId": "b1511ad4-3e0d-4c14-881a-93b6e17831f1"
      },
      "execution_count": null,
      "outputs": [
        {
          "output_type": "stream",
          "name": "stdout",
          "text": [
            "Level Order Traversal of binary tree is -\n",
            "1\n",
            "2\n",
            "3\n",
            "4\n",
            "5\n"
          ]
        }
      ]
    },
    {
      "cell_type": "code",
      "source": [
        "# A utility function to search a given key in BST\n",
        "def search(root,key):\n",
        "\t\n",
        "\t# Base Cases: root is null or key is present at root\n",
        "\tif root is None or root.val == key:\n",
        "\t\treturn root\n",
        "\n",
        "\t# Key is greater than root's key\n",
        "\tif root.val < key:\n",
        "\t\treturn search(root.right,key)\n",
        "\n",
        "\t# Key is smaller than root's key\n",
        "\treturn search(root.left,key)\n"
      ],
      "metadata": {
        "id": "hC9ZN5fW6HcI"
      },
      "execution_count": null,
      "outputs": []
    },
    {
      "cell_type": "markdown",
      "source": [
        "**Insertion of a key**\n",
        "\n",
        "Start from the root.\n",
        "Compare the inserting element with root, if less than root, then recurse for left, else recurse for right.\n",
        "After reaching the end, just insert that node at left(if less than current) else right."
      ],
      "metadata": {
        "id": "95fNQE5f6MA-"
      }
    },
    {
      "cell_type": "code",
      "source": [
        "# Python program to demonstrate\n",
        "# insert operation in binary search tree\n",
        "\n",
        "# A utility class that represents\n",
        "# an individual node in a BST\n",
        "class Node:\n",
        "\tdef __init__(self, key):\n",
        "\t\tself.left = None\n",
        "\t\tself.right = None\n",
        "\t\tself.val = key\n",
        "\n",
        "# A utility function to insert\n",
        "# a new node with the given key\n",
        "def insert(root, key):\n",
        "\tif root is None:\n",
        "\t\treturn Node(key)\n",
        "\telse:\n",
        "\t\tif root.val == key:\n",
        "\t\t\treturn root\n",
        "\t\telif root.val < key:\n",
        "\t\t\troot.right = insert(root.right, key)\n",
        "\t\telse:\n",
        "\t\t\troot.left = insert(root.left, key)\n",
        "\treturn root\n",
        "\n",
        "# A utility function to do inorder tree traversal\n",
        "def inorder(root):\n",
        "\tif root:\n",
        "\t\tinorder(root.left)\n",
        "\t\tprint(root.val)\n",
        "\t\tinorder(root.right)\n",
        "\n",
        "\n",
        "# Driver program to test the above functions\n",
        "# Let us create the following BST\n",
        "# 50\n",
        "# /\t \\\n",
        "# 30\t 70\n",
        "# / \\ / \\\n",
        "# 20 40 60 80\n",
        "\n",
        "r = Node(50)\n",
        "r = insert(r, 30)\n",
        "r = insert(r, 20)\n",
        "r = insert(r, 40)\n",
        "r = insert(r, 70)\n",
        "r = insert(r, 60)\n",
        "r = insert(r, 80)\n",
        "\n",
        "# Print inoder traversal of the BST\n",
        "inorder(r)\n"
      ],
      "metadata": {
        "colab": {
          "base_uri": "https://localhost:8080/"
        },
        "id": "HP1n2iLa6T-J",
        "outputId": "6a55dbda-dfb6-4beb-b688-63a6ea06e4c6"
      },
      "execution_count": null,
      "outputs": [
        {
          "output_type": "stream",
          "name": "stdout",
          "text": [
            "20\n",
            "30\n",
            "40\n",
            "50\n",
            "60\n",
            "70\n",
            "80\n"
          ]
        }
      ]
    },
    {
      "cell_type": "markdown",
      "source": [
        "## **Dynamic Programming**\n",
        "\n",
        "Dynamic Programming is mainly an optimization over plain recursion. Wherever we see a recursive solution that has repeated calls for same inputs, we can optimize it using Dynamic Programming. The idea is to simply store the results of subproblems, so that we do not have to re-compute them when needed later. This simple optimization reduces time complexities from exponential to polynomial. For example, if we write simple recursive solution for Fibonacci Numbers, we get exponential time complexity and if we optimize it by storing solutions of subproblems, time complexity reduces to linear.\n",
        "\n"
      ],
      "metadata": {
        "id": "L2DVDBGv7cLD"
      }
    },
    {
      "cell_type": "markdown",
      "source": [
        "Tabulation vs Memoization\n",
        "There are two different ways to store the values so that the values of a sub-problem can be reused. Here, will discuss two patterns of solving dynamic programming (DP) problem: \n",
        "\n",
        "Tabulation: Bottom Up\n",
        "Memoization: Top Down\n",
        "Tabulation\n",
        "As the name itself suggests starting from the bottom and accumulating answers to the top. Let’s discuss in terms of state transition.\n",
        "\n",
        "Let’s describe a state for our DP problem to be dp[x] with dp[0] as base state and dp[n] as our destination state. So,  we need to find the value of destination state i.e dp[n].\n",
        "\n",
        "If we start our transition from our base state i.e dp[0] and follow our state transition relation to reach our destination state dp[n], we call it the Bottom-Up approach as it is quite clear that we started our transition from the bottom base state and reached the topmost desired state.\n",
        "\n",
        "Now, Why do we call it tabulation method?\n",
        "\n",
        "To know this let’s first write some code to calculate the factorial of a number using bottom up approach. Once, again as our general procedure to solve a DP we first define a state. In this case, we define a state as dp[x], where dp[x] is to find the factorial of x.\n",
        "\n",
        "Now, it is quite obvious that dp[x+1] = dp[x] * (x+1)\n",
        "\n",
        "```\n",
        "# Tabulated version to find factorial x.\n",
        "dp = [0]*MAXN\n",
        "\n",
        "# base case\n",
        "dp[0] = 1;\n",
        "for i in range(n+1):\n",
        "   dp[i] = dp[i-1] * i\n",
        "```\n",
        "\n",
        "\n",
        "\n"
      ],
      "metadata": {
        "id": "RxQKceZz7fbC"
      }
    },
    {
      "cell_type": "markdown",
      "source": [
        "**Memoization**\n",
        "\n",
        "Once, again let’s describe it in terms of state transition. If we need to find the value for some state say dp[n] and instead of starting from the base state that i.e dp[0] we ask our answer from the states that can reach the destination state dp[n] following the state transition relation, then it is the top-down fashion of DP.\n",
        "\n",
        "Here, we start our journey from the top most destination state and compute its answer by taking in count the values of states that can reach the destination state, till we reach the bottom-most base state.\n",
        "\n",
        "Once again, let’s write the code for the factorial problem in the top-down fashion\n",
        "\n",
        "\n",
        "\n",
        "```\n",
        "# # Memoized version to find factorial x.\n",
        "#  To speed up we store the values\n",
        "# of calculated states\n",
        "\n",
        "# initialized to -1\n",
        "dp[0]*MAXN\n",
        "\n",
        "# return fact x!\n",
        "def solve(x):\n",
        "   if (x==0)\n",
        "       return 1\n",
        "   if (dp[x]!=-1)\n",
        "       return dp[x]\n",
        "   return (dp[x] = x * solve(x-1))\n",
        "```\n",
        "\n"
      ],
      "metadata": {
        "id": "ydBDdIPk79eW"
      }
    },
    {
      "cell_type": "markdown",
      "source": [
        "# Searching Algorithms"
      ],
      "metadata": {
        "id": "QUwj_Hlu_T9X"
      }
    },
    {
      "cell_type": "markdown",
      "source": [
        "## **Linear Search**\n",
        "\n",
        "Start from the leftmost element of arr[] and one by one compare x with each element of arr[]\n",
        "If x matches with an element, return the index.\n",
        "If x doesn’t match with any of the elements, return -1.\n",
        "\n",
        "**The time complexity of the above algorithm is O(n)**"
      ],
      "metadata": {
        "id": "mXaPwMJN-yhf"
      }
    },
    {
      "cell_type": "code",
      "source": [
        "# Python3 code to linearly search x in arr[].\n",
        "# If x is present then return its location,\n",
        "# otherwise return -1\n",
        "\n",
        "\n",
        "def search(arr, n, x):\n",
        "\n",
        "\tfor i in range(0, n):\n",
        "\t\tif (arr[i] == x):\n",
        "\t\t\treturn i\n",
        "\treturn -1\n",
        "\n",
        "\n",
        "# Driver Code\n",
        "arr = [2, 3, 4, 10, 40]\n",
        "x = 10\n",
        "n = len(arr)\n",
        "\n",
        "# Function call\n",
        "result = search(arr, n, x)\n",
        "if(result == -1):\n",
        "\tprint(\"Element is not present in array\")\n",
        "else:\n",
        "\tprint(\"Element is present at index\", result)\n"
      ],
      "metadata": {
        "colab": {
          "base_uri": "https://localhost:8080/"
        },
        "id": "F08L4ZW-_Zyf",
        "outputId": "2a6db95c-e571-4d42-df20-b1e40d9d8f04"
      },
      "execution_count": null,
      "outputs": [
        {
          "output_type": "stream",
          "name": "stdout",
          "text": [
            "Element is present at index 3\n"
          ]
        }
      ]
    },
    {
      "cell_type": "markdown",
      "source": [
        "## **Binary Search**\n",
        "Search a sorted array by repeatedly dividing the search interval in half. Begin with an interval covering the whole array. If the value of the search key is less than the item in the middle of the interval, narrow the interval to the lower half. Otherwise, narrow it to the upper half. Repeatedly check until the value is found or the interval is empty.\n",
        "\n",
        "**The time complexity of the above algorithm is O(log(n))**. "
      ],
      "metadata": {
        "id": "YdlDIrpz_enG"
      }
    },
    {
      "cell_type": "code",
      "source": [
        "# Python3 Program for recursive binary search.\n",
        "\n",
        "# Returns index of x in arr if present, else -1\n",
        "def binarySearch (arr, l, r, x):\n",
        "\n",
        "\t# Check base case\n",
        "\tif r >= l:\n",
        "\n",
        "\t\tmid = l + (r - l) // 2\n",
        "\n",
        "\t\t# If element is present at the middle itself\n",
        "\t\tif arr[mid] == x:\n",
        "\t\t\treturn mid\n",
        "\t\t\n",
        "\t\t# If element is smaller than mid, then it\n",
        "\t\t# can only be present in left subarray\n",
        "\t\telif arr[mid] > x:\n",
        "\t\t\treturn binarySearch(arr, l, mid-1, x)\n",
        "\n",
        "\t\t# Else the element can only be present\n",
        "\t\t# in right subarray\n",
        "\t\telse:\n",
        "\t\t\treturn binarySearch(arr, mid + 1, r, x)\n",
        "\n",
        "\telse:\n",
        "\t\t# Element is not present in the array\n",
        "\t\treturn -1\n",
        "\n",
        "# Driver Code\n",
        "arr = [ 2, 3, 4, 10, 40 ]\n",
        "x = 10\n",
        "\n",
        "# Function call\n",
        "result = binarySearch(arr, 0, len(arr)-1, x)\n",
        "\n",
        "if result != -1:\n",
        "\tprint (\"Element is present at index % d\" % result)\n",
        "else:\n",
        "\tprint (\"Element is not present in array\")\n"
      ],
      "metadata": {
        "colab": {
          "base_uri": "https://localhost:8080/"
        },
        "id": "L1IDqhno_3TR",
        "outputId": "b974f3d8-3280-40f4-dfa7-0aa13437790a"
      },
      "execution_count": null,
      "outputs": [
        {
          "output_type": "stream",
          "name": "stdout",
          "text": [
            "Element is present at index  3\n"
          ]
        }
      ]
    },
    {
      "cell_type": "markdown",
      "source": [
        "# Sorting Algorithms"
      ],
      "metadata": {
        "id": "m8XfikxE-zOV"
      }
    },
    {
      "cell_type": "markdown",
      "source": [
        "##Selection Sort\n",
        "\n",
        "The selection sort algorithm sorts an array by repeatedly finding the minimum element (considering ascending order) from unsorted part and putting it at the beginning. In every iteration of selection sort, the minimum element (considering ascending order) from the unsorted subarray is picked and moved to the sorted subarray. \n",
        "\n",
        "\n",
        "\n",
        "\n",
        "1.   **Time Complexity: O(n2)** as there are two nested loops.\n",
        "\n",
        "2.   **Auxiliary Space: O(1)** \n",
        "\n"
      ],
      "metadata": {
        "id": "WLaxUyBi-vYm"
      }
    },
    {
      "cell_type": "code",
      "source": [
        "# Python program for implementation of Selection\n",
        "# Sort\n",
        "import sys\n",
        "\n",
        "\n",
        "A = [64, 25, 12, 22, 11]\n",
        "\n",
        "# Traverse through all array elements\n",
        "for i in range(len(A)):\n",
        "\t\n",
        "\t# Find the minimum element in remaining\n",
        "\t# unsorted array\n",
        "\tmin_idx = i\n",
        "\tfor j in range(i+1, len(A)):\n",
        "\t\tif A[min_idx] > A[j]:\n",
        "\t\t\tmin_idx = j\n",
        "\t\t\t\n",
        "\t# Swap the found minimum element with\n",
        "\t# the first element\n",
        "\tA[i], A[min_idx] = A[min_idx], A[i]\n",
        "\n",
        "# Driver code to test above\n",
        "print (\"Sorted array\")\n",
        "for i in range(len(A)):\n",
        "\tprint(\"%d\" %A[i]),\n"
      ],
      "metadata": {
        "colab": {
          "base_uri": "https://localhost:8080/"
        },
        "id": "vqdSzIjj-5sc",
        "outputId": "e4a0cacd-f97e-4694-c437-533d4793628f"
      },
      "execution_count": null,
      "outputs": [
        {
          "output_type": "stream",
          "name": "stdout",
          "text": [
            "Sorted array\n",
            "11\n",
            "12\n",
            "22\n",
            "25\n",
            "64\n"
          ]
        }
      ]
    },
    {
      "cell_type": "markdown",
      "source": [
        "## Bubble Sort\n",
        "Bubble Sort is the simplest sorting algorithm that works by repeatedly swapping the adjacent elements if they are in wrong order.\n",
        "\n",
        "**Time Complexity: O(n2)**"
      ],
      "metadata": {
        "id": "j6F-cafB-cx9"
      }
    },
    {
      "cell_type": "code",
      "source": [
        "# Python program for implementation of Bubble Sort\n",
        "\n",
        "def bubbleSort(arr):\n",
        "\tn = len(arr)\n",
        "\n",
        "\t# Traverse through all array elements\n",
        "\tfor i in range(n):\n",
        "\n",
        "\t\t# Last i elements are already in place\n",
        "\t\tfor j in range(0, n-i-1):\n",
        "\n",
        "\t\t\t# traverse the array from 0 to n-i-1\n",
        "\t\t\t# Swap if the element found is greater\n",
        "\t\t\t# than the next element\n",
        "\t\t\tif arr[j] > arr[j+1] :\n",
        "\t\t\t\tarr[j], arr[j+1] = arr[j+1], arr[j]\n",
        "\n",
        "# Driver code to test above\n",
        "arr = [64, 34, 25, 12, 22, 11, 90]\n",
        "\n",
        "bubbleSort(arr)\n",
        "\n",
        "print (\"Sorted array is:\")\n",
        "for i in range(len(arr)):\n",
        "\tprint (\"%d\" %arr[i]),\n"
      ],
      "metadata": {
        "colab": {
          "base_uri": "https://localhost:8080/"
        },
        "id": "JOb0fsRA-hbJ",
        "outputId": "fd404554-8da1-45b2-a90a-e48bac1012eb"
      },
      "execution_count": null,
      "outputs": [
        {
          "output_type": "stream",
          "name": "stdout",
          "text": [
            "Sorted array is:\n",
            "11\n",
            "12\n",
            "22\n",
            "25\n",
            "34\n",
            "64\n",
            "90\n"
          ]
        }
      ]
    },
    {
      "cell_type": "markdown",
      "source": [
        "## Insertion Sort\n",
        "To sort an array of size n in ascending order using insertion sort:\n",
        "\n",
        "Iterate from arr[1] to arr[n] over the array.\n",
        "Compare the current element (key) to its predecessor.\n",
        "If the key element is smaller than its predecessor, compare it to the elements before. Move the greater elements one position up to make space for the swapped element.\n",
        "\n",
        "**Time Complexity: O(n2))**"
      ],
      "metadata": {
        "id": "hmgAS19Q-MAD"
      }
    },
    {
      "cell_type": "code",
      "source": [
        "# Python program for implementation of Insertion Sort\n",
        "\n",
        "# Function to do insertion sort\n",
        "def insertionSort(arr):\n",
        "\n",
        "\t# Traverse through 1 to len(arr)\n",
        "\tfor i in range(1, len(arr)):\n",
        "\n",
        "\t\tkey = arr[i]\n",
        "\n",
        "\t\t# Move elements of arr[0..i-1], that are\n",
        "\t\t# greater than key, to one position ahead\n",
        "\t\t# of their current position\n",
        "\t\tj = i-1\n",
        "\t\twhile j >= 0 and key < arr[j] :\n",
        "\t\t\t\tarr[j + 1] = arr[j]\n",
        "\t\t\t\tj -= 1\n",
        "\t\tarr[j + 1] = key\n",
        "\n",
        "\n",
        "# Driver code to test above\n",
        "arr = [12, 11, 13, 5, 6]\n",
        "insertionSort(arr)\n",
        "for i in range(len(arr)):\n",
        "\tprint (\"% d\" % arr[i])\n"
      ],
      "metadata": {
        "colab": {
          "base_uri": "https://localhost:8080/"
        },
        "id": "my3pq5Zn9A7c",
        "outputId": "4a990ccd-16fb-46ac-8508-fbcaf0e6c2ef"
      },
      "execution_count": null,
      "outputs": [
        {
          "output_type": "stream",
          "name": "stdout",
          "text": [
            " 5\n",
            " 6\n",
            " 11\n",
            " 12\n",
            " 13\n"
          ]
        }
      ]
    },
    {
      "cell_type": "markdown",
      "source": [
        "## Merge Sort\n",
        "Like QuickSort, Merge Sort is a Divide and Conquer algorithm. It divides the input array into two halves, calls itself for the two halves, and then merges the two sorted halves. The merge() function is used for merging two halves. The merge(arr, l, m, r) is a key process that assumes that arr[l..m] and arr[m+1..r] are sorted and merges the two sorted sub-arrays into one. \n",
        "```\n",
        "MergeSort(arr[], l,  r)\n",
        "If r > l\n",
        "     1. Find the middle point to divide the array into two halves:  \n",
        "             middle m = l+ (r-l)/2\n",
        "     2. Call mergeSort for first half:   \n",
        "             Call mergeSort(arr, l, m)\n",
        "     3. Call mergeSort for second half:\n",
        "             Call mergeSort(arr, m+1, r)\n",
        "     4. Merge the two halves sorted in step 2 and 3:\n",
        "             Call merge(arr, l, m, r)\n",
        "\n",
        "\n",
        "```\n",
        "\n",
        "**Time Complexity: O(n(logn))**"
      ],
      "metadata": {
        "id": "tkY7g3_w9xYl"
      }
    },
    {
      "cell_type": "code",
      "source": [
        "# Python program for implementation of MergeSort\n",
        "def mergeSort(arr):\n",
        "\tif len(arr) > 1:\n",
        "\n",
        "\t\t# Finding the mid of the array\n",
        "\t\tmid = len(arr)//2\n",
        "\n",
        "\t\t# Dividing the array elements\n",
        "\t\tL = arr[:mid]\n",
        "\n",
        "\t\t# into 2 halves\n",
        "\t\tR = arr[mid:]\n",
        "\n",
        "\t\t# Sorting the first half\n",
        "\t\tmergeSort(L)\n",
        "\n",
        "\t\t# Sorting the second half\n",
        "\t\tmergeSort(R)\n",
        "\n",
        "\t\ti = j = k = 0\n",
        "\n",
        "\t\t# Copy data to temp arrays L[] and R[]\n",
        "\t\twhile i < len(L) and j < len(R):\n",
        "\t\t\tif L[i] < R[j]:\n",
        "\t\t\t\tarr[k] = L[i]\n",
        "\t\t\t\ti += 1\n",
        "\t\t\telse:\n",
        "\t\t\t\tarr[k] = R[j]\n",
        "\t\t\t\tj += 1\n",
        "\t\t\tk += 1\n",
        "\n",
        "\t\t# Checking if any element was left\n",
        "\t\twhile i < len(L):\n",
        "\t\t\tarr[k] = L[i]\n",
        "\t\t\ti += 1\n",
        "\t\t\tk += 1\n",
        "\n",
        "\t\twhile j < len(R):\n",
        "\t\t\tarr[k] = R[j]\n",
        "\t\t\tj += 1\n",
        "\t\t\tk += 1\n",
        "\n",
        "# Code to print the list\n",
        "\n",
        "\n",
        "def printList(arr):\n",
        "\tfor i in range(len(arr)):\n",
        "\t\tprint(arr[i], end=\" \")\n",
        "\tprint()\n",
        "\n",
        "\n",
        "# Driver Code\n",
        "if __name__ == '__main__':\n",
        "\tarr = [12, 11, 13, 5, 6, 7]\n",
        "\tprint(\"Given array is\", end=\"\\n\")\n",
        "\tprintList(arr)\n",
        "\tmergeSort(arr)\n",
        "\tprint(\"Sorted array is: \", end=\"\\n\")\n",
        "\tprintList(arr)\n"
      ],
      "metadata": {
        "colab": {
          "base_uri": "https://localhost:8080/"
        },
        "id": "TznXdhl49wLw",
        "outputId": "be3ff42d-998a-4c62-b3d6-0d13c7fb50c3"
      },
      "execution_count": null,
      "outputs": [
        {
          "output_type": "stream",
          "name": "stdout",
          "text": [
            "Given array is\n",
            "12 11 13 5 6 7 \n",
            "Sorted array is: \n",
            "5 6 7 11 12 13 \n"
          ]
        }
      ]
    },
    {
      "cell_type": "markdown",
      "source": [
        "## QuickSort\n",
        "Like Merge Sort, QuickSort is a Divide and Conquer algorithm. It picks an element as pivot and partitions the given array around the picked pivot. There are many different versions of quickSort that pick pivot in different ways.\n",
        "\n",
        "Always pick first element as pivot.\n",
        "\n",
        "Always pick last element as pivot (implemented below)\n",
        "Pick a random element as pivot.\n",
        "Pick median as pivot.\n",
        "The key process in quickSort is partition(). Target of partitions is, given an array and an element x of array as pivot, put x at its correct position in sorted array and put all smaller elements (smaller than x) before x, and put all greater elements (greater than x) after x. All this should be done in linear time.\n",
        "\n",
        "\n",
        "```\n",
        "/* low  --> Starting index,  high  --> Ending index */\n",
        "quickSort(arr[], low, high)\n",
        "{\n",
        "    if (low < high)\n",
        "    {\n",
        "        /* pi is partitioning index, arr[pi] is now\n",
        "           at right place */\n",
        "        pi = partition(arr, low, high);\n",
        "\n",
        "        quickSort(arr, low, pi - 1);  // Before pi\n",
        "        quickSort(arr, pi + 1, high); // After pi\n",
        "    }\n",
        "}\n",
        "\n",
        "```"
      ],
      "metadata": {
        "id": "5dDJkL6m9a_x"
      }
    },
    {
      "cell_type": "markdown",
      "source": [
        "## Partition Algorithm\n",
        "\n",
        "There can be many ways to do partition, following pseudo code adopts the method given in CLRS book. The logic is simple, we start from the leftmost element and keep track of index of smaller (or equal to) elements as i. While traversing, if we find a smaller element, we swap current element with arr[i]. Otherwise we ignore current element. \n",
        "\n",
        "\n",
        "\n",
        "```\n",
        "/* low  --> Starting index,  high  --> Ending index */\n",
        "quickSort(arr[], low, high)\n",
        "{\n",
        "    if (low < high)\n",
        "    {\n",
        "        /* pi is partitioning index, arr[pi] is now\n",
        "           at right place */\n",
        "        pi = partition(arr, low, high);\n",
        "\n",
        "        quickSort(arr, low, pi - 1);  // Before pi\n",
        "        quickSort(arr, pi + 1, high); // After pi\n",
        "    }\n",
        "}\n",
        "```\n",
        "\n"
      ],
      "metadata": {
        "id": "lH9v-hZg8c13"
      }
    },
    {
      "cell_type": "markdown",
      "source": [
        "## ShellSort\n",
        "ShellSort is mainly a variation of Insertion Sort. In insertion sort, we move elements only one position ahead. When an element has to be moved far ahead, many movements are involved. The idea of shellSort is to allow the exchange of far items. In shellSort, we make the array h-sorted for a large value of h. We keep reducing the value of h until it becomes 1. An array is said to be h-sorted if all sublists of every hth element is sorted.\n",
        "\n",
        "**Time Complexity:  O(n2)**"
      ],
      "metadata": {
        "id": "QBarx1on8c9c"
      }
    },
    {
      "cell_type": "code",
      "source": [
        "# Python3 program for implementation of Shell Sort\n",
        "\n",
        "def shellSort(arr):\n",
        "\tgap = len(arr) // 2 # initialize the gap\n",
        "\n",
        "\twhile gap > 0:\n",
        "\t\ti = 0\n",
        "\t\tj = gap\n",
        "\t\t\n",
        "\t\t# check the array in from left to right\n",
        "\t\t# till the last possible index of j\n",
        "\t\twhile j < len(arr):\n",
        "\t\n",
        "\t\t\tif arr[i] >arr[j]:\n",
        "\t\t\t\tarr[i],arr[j] = arr[j],arr[i]\n",
        "\t\t\t\n",
        "\t\t\ti += 1\n",
        "\t\t\tj += 1\n",
        "\t\t\n",
        "\t\t\t# now, we look back from ith index to the left\n",
        "\t\t\t# we swap the values which are not in the right order.\n",
        "\t\t\tk = i\n",
        "\t\t\twhile k - gap > -1:\n",
        "\n",
        "\t\t\t\tif arr[k - gap] > arr[k]:\n",
        "\t\t\t\t\tarr[k-gap],arr[k] = arr[k],arr[k-gap]\n",
        "\t\t\t\tk -= 1\n",
        "\n",
        "\t\tgap //= 2\n",
        "\n",
        "\n",
        "# driver to check the code\n",
        "arr2 = [12, 34, 54, 2, 3]\n",
        "print(\"input array:\",arr2)\n",
        "\n",
        "shellSort(arr2)\n",
        "print(\"sorted array\",arr2)\n"
      ],
      "metadata": {
        "colab": {
          "base_uri": "https://localhost:8080/"
        },
        "id": "vf67id7X8qAX",
        "outputId": "21f97037-120e-46c1-8507-730ca757ad33"
      },
      "execution_count": null,
      "outputs": [
        {
          "output_type": "stream",
          "name": "stdout",
          "text": [
            "input array: [12, 34, 54, 2, 3]\n",
            "sorted array [2, 3, 12, 34, 54]\n"
          ]
        }
      ]
    },
    {
      "cell_type": "markdown",
      "source": [
        "#Common Asymptotic Notations\n",
        "A list of some common asymptotic notations is mentioned below −\n",
        "\n",
        "* constant\t−\tΟ(1)\n",
        "* logarithmic\t−\tΟ(log n)\n",
        "* linear\t−\tΟ(n)\n",
        "* n log n\t−\tΟ(n log n)\n",
        "* quadratic\t−\tΟ(n2)\n",
        "* cubic\t−\tΟ(n3)\n",
        "* polynomial\t−\tnΟ(1)\n",
        "* exponential\t−\t2Ο(n)"
      ],
      "metadata": {
        "id": "Ip_8p-uSjJlD"
      }
    },
    {
      "cell_type": "markdown",
      "source": [
        "**Refrence**\n",
        "\n",
        "\n",
        "\n",
        "1.   https://www.geeksforgeeks.org/python-data-structures-and-algorithms/\n",
        "2.   https://www.youtube.com/watch?v=MLqHDsBOC4c\n",
        "3.   https://www.tutorialspoint.com/python_data_structure/python_big_o_notation.htm\n",
        "\n",
        "\n"
      ],
      "metadata": {
        "id": "768Ckda5AMYM"
      }
    }
  ]
}